{
 "cells": [
  {
   "cell_type": "code",
   "execution_count": 13,
   "id": "4abe3285-410b-4f79-b3dc-20a1967d7ab1",
   "metadata": {},
   "outputs": [],
   "source": [
    "#!pip install langchain-chroma"
   ]
  },
  {
   "cell_type": "code",
   "execution_count": 14,
   "id": "994532eb-1413-43cd-96e0-09e1eb9d713d",
   "metadata": {},
   "outputs": [],
   "source": [
    "#pip install hubspot-api-client"
   ]
  },
  {
   "cell_type": "code",
   "execution_count": 22,
   "id": "b2640ccc-db51-43b2-8a76-2baf5aec611b",
   "metadata": {},
   "outputs": [],
   "source": [
    "# Automate making new email,\n",
    "# automate signing up for hubspot with that email,\n",
    "# automate finding new products to sell,\n",
    "# automate calendly button.\n",
    "\n"
   ]
  },
  {
   "cell_type": "code",
   "execution_count": 3,
   "id": "5436a0eb-72d9-40b3-b51c-88277c4c3b63",
   "metadata": {},
   "outputs": [
    {
     "name": "stdout",
     "output_type": "stream",
     "text": [
      "/Users/kevincorstorphine/Desktop/Agentic_Start\n",
      "Loading .env file from: /Users/kevincorstorphine/Desktop/Agentic_Start/.env\n"
     ]
    }
   ],
   "source": [
    "import os\n",
    "from dotenv import load_dotenv, find_dotenv\n",
    "_ = load_dotenv(find_dotenv())\n",
    "openai_api_key = os.environ[\"OPENAI_API_KEY\"]\n",
    "hubspot_api_key = os.getenv('HUBSPOT_API_KEY')\n",
    "\n",
    "print(os.getcwd())\n",
    "dotenv_path = find_dotenv()\n",
    "print(f\"Loading .env file from: {dotenv_path}\")\n",
    "_ = load_dotenv(dotenv_path)\n",
    "\n",
    "\n",
    "from langchain_core.prompts import PromptTemplate\n",
    "from langchain_core.prompts import FewShotChatMessagePromptTemplate\n",
    "from langchain_core.prompts import ChatPromptTemplate\n",
    "\n",
    "from langchain_openai import OpenAI\n",
    "from langchain_openai import ChatOpenAI\n",
    "\n",
    "\n",
    "from langchain_chroma import Chroma\n",
    "\n",
    "\n",
    "creativeLlmModel = OpenAI(temperature=0.9)\n",
    "chatModel = ChatOpenAI(model=\"gpt-4o-mini\")\n",
    "llmModel = OpenAI()\n",
    "\n"
   ]
  },
  {
   "cell_type": "code",
   "execution_count": 4,
   "id": "25247017-4113-432b-9d9d-5f7497df180b",
   "metadata": {},
   "outputs": [],
   "source": [
    "\n"
   ]
  },
  {
   "cell_type": "code",
   "execution_count": 5,
   "id": "7500e165-e889-4849-9d62-7378917e05fe",
   "metadata": {},
   "outputs": [],
   "source": []
  },
  {
   "cell_type": "code",
   "execution_count": 20,
   "id": "d8e6a73e-92c6-4893-b736-bd36012cfcf0",
   "metadata": {},
   "outputs": [],
   "source": [
    "# USE AI TO MAKE THE CALLS YOU NEED\n",
    "# GOOGLE PLACES API to find names of businesses in a certain area. Get API Keys and have Google do it.\n",
    "# Linkedin Sales Navigator to find the contact information of the people (maybe sales nav) ~$99/mo#\n",
    "# Zoominfo to get their contact information.\n",
    "\n",
    "# AI to combine all of the info and to pass it on to the SDR who will take all the info they know about the company (will have to get it to search"
   ]
  },
  {
   "cell_type": "code",
   "execution_count": null,
   "id": "aed36862-39ec-46d7-91b7-c3658dc1d1d4",
   "metadata": {},
   "outputs": [],
   "source": []
  },
  {
   "cell_type": "code",
   "execution_count": null,
   "id": "0a037ce8-731b-4e9d-88a8-a6b5eda97df0",
   "metadata": {},
   "outputs": [],
   "source": [
    "\n"
   ]
  },
  {
   "cell_type": "code",
   "execution_count": null,
   "id": "7c74f07c-0a62-4fe2-9318-a659e4e55c18",
   "metadata": {},
   "outputs": [],
   "source": []
  },
  {
   "cell_type": "code",
   "execution_count": null,
   "id": "79c78f1e-2013-43bf-98d0-deb73ab78ad4",
   "metadata": {},
   "outputs": [],
   "source": []
  },
  {
   "cell_type": "code",
   "execution_count": null,
   "id": "d755eec6-5fb3-4e2e-807a-d0596362c9a6",
   "metadata": {},
   "outputs": [],
   "source": []
  },
  {
   "cell_type": "raw",
   "id": "92de9f3e-fd16-4b8f-8de9-44679bc51487",
   "metadata": {},
   "source": []
  },
  {
   "cell_type": "code",
   "execution_count": 37,
   "id": "a7fb2540-4d8e-45a3-afc2-fead433d7936",
   "metadata": {},
   "outputs": [],
   "source": []
  },
  {
   "cell_type": "code",
   "execution_count": null,
   "id": "f764064e-c634-4ae9-8353-6616dc52ac69",
   "metadata": {},
   "outputs": [],
   "source": []
  },
  {
   "cell_type": "code",
   "execution_count": null,
   "id": "5b133ef9-98ac-4d72-8702-961f55e33794",
   "metadata": {},
   "outputs": [],
   "source": []
  },
  {
   "cell_type": "code",
   "execution_count": null,
   "id": "6b727f09-f937-4d2d-8270-a60439537618",
   "metadata": {},
   "outputs": [],
   "source": []
  },
  {
   "cell_type": "code",
   "execution_count": 43,
   "id": "a9fc6298-30d9-4b22-9c1e-81298d3ea4c5",
   "metadata": {},
   "outputs": [],
   "source": []
  },
  {
   "cell_type": "code",
   "execution_count": null,
   "id": "e98c88ad-104e-42d3-9d99-cb0c63d08661",
   "metadata": {},
   "outputs": [],
   "source": []
  },
  {
   "cell_type": "code",
   "execution_count": null,
   "id": "aae40cce-070c-4649-a7f0-cc457c778e31",
   "metadata": {},
   "outputs": [],
   "source": []
  },
  {
   "cell_type": "code",
   "execution_count": null,
   "id": "d7aa4f20-d466-42b9-a3dc-9b302a33d156",
   "metadata": {},
   "outputs": [],
   "source": []
  },
  {
   "cell_type": "code",
   "execution_count": null,
   "id": "8f291c0d-2152-4a9e-adb5-031da8657b16",
   "metadata": {},
   "outputs": [],
   "source": [
    "\n"
   ]
  },
  {
   "cell_type": "code",
   "execution_count": null,
   "id": "a48aa778-9fb3-4b06-b335-b92dc111910d",
   "metadata": {},
   "outputs": [],
   "source": [
    "\n",
    "\n",
    "\n"
   ]
  },
  {
   "cell_type": "code",
   "execution_count": null,
   "id": "29917e3a-3c4f-45c6-9f01-0cdb576ad23a",
   "metadata": {},
   "outputs": [],
   "source": []
  }
 ],
 "metadata": {
  "kernelspec": {
   "display_name": "Python 3 (ipykernel)",
   "language": "python",
   "name": "python3"
  },
  "language_info": {
   "codemirror_mode": {
    "name": "ipython",
    "version": 3
   },
   "file_extension": ".py",
   "mimetype": "text/x-python",
   "name": "python",
   "nbconvert_exporter": "python",
   "pygments_lexer": "ipython3",
   "version": "3.11.4"
  }
 },
 "nbformat": 4,
 "nbformat_minor": 5
}
