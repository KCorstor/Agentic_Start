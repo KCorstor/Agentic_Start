{
 "cells": [
  {
   "cell_type": "code",
   "execution_count": 2,
   "id": "129a041b-9175-4a70-9d59-ae45bed8a341",
   "metadata": {},
   "outputs": [],
   "source": [
    "#HAVE AI look at each lead and send an email based on how long ago they were contacted, and new possible contacts.\n",
    "#Tell them that we are trying to do MEDPICC SWARM and Manage the outreach. Train this thing on good outreach management\n",
    "#"
   ]
  },
  {
   "cell_type": "code",
   "execution_count": null,
   "id": "168a1d44-9cfa-46dc-967e-7a0488beb8d1",
   "metadata": {},
   "outputs": [],
   "source": []
  },
  {
   "cell_type": "code",
   "execution_count": null,
   "id": "e2536243-a5df-48ab-8577-81c50c261c63",
   "metadata": {},
   "outputs": [],
   "source": [
    "#Rules about outreach"
   ]
  }
 ],
 "metadata": {
  "kernelspec": {
   "display_name": "Python 3 (ipykernel)",
   "language": "python",
   "name": "python3"
  },
  "language_info": {
   "codemirror_mode": {
    "name": "ipython",
    "version": 3
   },
   "file_extension": ".py",
   "mimetype": "text/x-python",
   "name": "python",
   "nbconvert_exporter": "python",
   "pygments_lexer": "ipython3",
   "version": "3.11.4"
  }
 },
 "nbformat": 4,
 "nbformat_minor": 5
}
