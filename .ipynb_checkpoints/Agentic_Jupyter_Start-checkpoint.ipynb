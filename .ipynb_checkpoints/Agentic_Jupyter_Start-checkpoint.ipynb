{
 "cells": [
  {
   "cell_type": "code",
   "execution_count": 1,
   "id": "daab331c",
   "metadata": {},
   "outputs": [
    {
     "name": "stdout",
     "output_type": "stream",
     "text": [
      "/Users/kevincorstorphine/Desktop/Agentic_Start\n",
      "Loading .env file from: /Users/kevincorstorphine/Desktop/Agentic_Start/.env\n"
     ]
    }
   ],
   "source": [
    "#\n",
    "\n",
    "#All of the dependencies are listed in the .toml file. Ensure those are going with Poetry\n",
    "#ensure your .env file is in the right place \n",
    "\n",
    "#make sure you're using poetry shell to get all of the dependencies going in your folder\n",
    "\n",
    "import os\n",
    "from dotenv import load_dotenv, find_dotenv\n",
    "_ = load_dotenv(find_dotenv())\n",
    "openai_api_key = os.environ[\"OPENAI_API_KEY\"]\n",
    "\n",
    "print(os.getcwd())\n",
    "dotenv_path = find_dotenv()\n",
    "print(f\"Loading .env file from: {dotenv_path}\")\n",
    "_ = load_dotenv(dotenv_path)\n",
    "\n",
    "\n",
    "from langchain_core.prompts import PromptTemplate\n",
    "from langchain_core.prompts import FewShotChatMessagePromptTemplate\n",
    "from langchain_core.prompts import ChatPromptTemplate\n",
    "\n",
    "from langchain_openai import OpenAI\n",
    "from langchain_openai import ChatOpenAI\n",
    "\n",
    "creativeLlmModel = OpenAI(temperature=0.9)\n",
    "chatModel = ChatOpenAI(model=\"gpt-4o-mini\")\n",
    "llmModel = OpenAI()"
   ]
  },
  {
   "cell_type": "code",
   "execution_count": null,
   "id": "12b0006a-925a-475d-bf4a-3faf78ae322f",
   "metadata": {},
   "outputs": [],
   "source": []
  },
  {
   "cell_type": "code",
   "execution_count": 2,
   "id": "14f340c7-4140-4569-8bb9-afa9f88723f6",
   "metadata": {},
   "outputs": [],
   "source": [
    "#AGENTIC BDR"
   ]
  },
  {
   "cell_type": "code",
   "execution_count": 3,
   "id": "8b780990-df0c-4cc3-9535-d06e851f3c41",
   "metadata": {},
   "outputs": [],
   "source": [
    "#Enter name of town to database\n",
    "# Call yelp, or google map, or whatever API\n",
    "# Get list of Businesses back\n",
    "#Store in database\n",
    "#use Linkedin to find best contacts for each business\n",
    "#store in database\n",
    "#Use Zoominfo? to find their email or contact information for every contact\n",
    "#Store in Database\n",
    "#Use Webscraper to write a summary for each lead\n",
    "#store in Database"
   ]
  },
  {
   "cell_type": "code",
   "execution_count": null,
   "id": "f91f1ec0-1181-4624-b991-a5ac82266f6b",
   "metadata": {},
   "outputs": [],
   "source": []
  },
  {
   "cell_type": "code",
   "execution_count": null,
   "id": "991bf55f-b926-4da8-861c-4a9e468464ba",
   "metadata": {},
   "outputs": [],
   "source": []
  },
  {
   "cell_type": "code",
   "execution_count": 4,
   "id": "7e3dfe62-dda8-4076-8a6d-edaa6b149a33",
   "metadata": {},
   "outputs": [
    {
     "name": "stdout",
     "output_type": "stream",
     "text": [
      "Scraping: https://api3.org\n",
      "Scraping: https://api3.org/\n",
      "Scraping: https://api3.org/oev\n",
      "Scraping: https://api3.org/data-feeds\n",
      "Scraping: https://api3.org/qrng\n",
      "Scraping: https://api3.org/web3-apis\n",
      "Scraping: https://api3.org/airnode\n",
      "Scraping: https://api3.org/api3-alliance\n",
      "Scraping: https://api3.org/dao\n",
      "Scraping: https://api3.org/open-positions\n",
      "Scraping: https://api3.org/contact\n",
      "Scraping: https://api3.org/privacy-policy\n",
      "Scraping: https://api3.org/privacy-and-cookies\n",
      "Scraping: https://api3.org/terms-and-conditions\n",
      "Scraping: https://api3.org/web3-apis/Celitech Bee API\n",
      "Scraping: https://api3.org/web3-apis/Crypto API\n",
      "Scraping: https://api3.org/web3-apis/Quadency Unified API\n",
      "Scraping: https://api3.org/web3-apis/PWP Leeway\n",
      "Scraping: https://api3.org/web3-apis/Paradigm API\n",
      "Scraping: https://api3.org/web3-apis/Catallact API\n",
      "Scraping: https://api3.org/web3-apis/Bird API\n",
      "Scraping: https://api3.org/web3-apis/Asteria API\n",
      "Scraping: https://api3.org/web3-apis/Melodie API\n",
      "Scraping: https://api3.org/web3-apis/Address Verification API\n",
      "Scraping: https://api3.org/web3-apis/INFRD Insurance API\n",
      "Scraping: https://api3.org/web3-apis/Identity Authentication API\n",
      "Scraping: https://api3.org/web3-apis/The Authoritas SERP API\n",
      "Scraping: https://api3.org/web3-apis/Benzinga Market News API\n",
      "Scraping: https://api3.org/web3-apis/SMS Gateway API\n",
      "Scraping: https://api3.org/cdn-cgi/l/email-protection#147c7178645475647d273a7b6673\n",
      "Scraping: https://api3.org/cdn-cgi/l/email-protection#c9aaa6a7bda8aabd89a8b9a0fae7a6bbae\n",
      "Scraping: https://api3.org/cdn-cgi/l/email-protection#67040809130604132706170e5449081500\n",
      "Scraping: https://api3.org/cdn-cgi/l/email-protection#0d6e6263796c6e794d6c7d643e23627f6a\n",
      "Scraping: https://api3.org/cdn-cgi/l/email-protection#c7a4a8a9b3a6a4b387a6b7aef4e9a8b5a0\n",
      "Scraping: https://api3.org/cdn-cgi/l/email-protection#c0a3afaeb4a1a3b480a1b0a9f3eeafb2a7\n",
      "Scraping: https://api3.org/cdn-cgi/l/email-protection#b8cbcdc8c8d7caccf8d9c8d18b96dbd7d5\n",
      "Scraping: https://api3.org/cdn-cgi/l/email-protection#53303c3d273230271332233a607d3c2134\n",
      "Scraping: https://api3.org/cdn-cgi/l/email-protection#6d0e0203190c0e192d0c1d045e43021f0a\n",
      "Scraping: https://api3.org/cdn-cgi/l/email-protection#3c5f5352485d5f487c5d4c550f12534e5b\n",
      "Scraping: https://api3.org/cdn-cgi/l/email-protection\n",
      "Scraping: https://api3.org/cdn-cgi/l/email-protection#5f3c30312b3e3c2b1f3e2f366c71302d38\n",
      "Scraping: https://api3.org/cdn-cgi/l/email-protection#51323e3f2530322511302138627f3e2336\n",
      "Scraping: https://api3.org/cdn-cgi/l/email-protection#cabea08aa8afa4b0a3a4adabe4a9a5a7\n",
      "All pages combined and saved in: example_com_combined.txt\n"
     ]
    }
   ],
   "source": [
    "#Web Scraper\n",
    "\n",
    "# from bs4 import BeautifulSoup\n",
    "# from urllib.parse import urljoin, urlparse\n",
    "# from collections import deque\n",
    "# import time\n",
    "# import os\n",
    "# import requests\n",
    "\n",
    "# def is_valid_url(url, base_url):\n",
    "#     parsed_base_url = urlparse(base_url)\n",
    "#     parsed_url = urlparse(url)\n",
    "#     return parsed_url.scheme in ['http', 'https'] and parsed_base_url.netloc == parsed_url.netloc\n",
    "\n",
    "# def scrape_website(start_url, output_filename):\n",
    "#     visited = set()\n",
    "#     queue = deque([start_url])\n",
    "#     combined_content = \"\"  # Variable to store all the scraped content\n",
    "\n",
    "#     while queue:\n",
    "#         url = queue.popleft()\n",
    "\n",
    "#         if url in visited:\n",
    "#             continue\n",
    "\n",
    "#         visited.add(url)\n",
    "#         print(f\"Scraping: {url}\")\n",
    "        \n",
    "#         try:\n",
    "#             response = requests.get(url)\n",
    "#             if response.status_code != 200:\n",
    "#                 continue\n",
    "\n",
    "#             soup = BeautifulSoup(response.text, 'html.parser')\n",
    "#             page_text = soup.get_text()\n",
    "\n",
    "#             # Append the content of this page to the combined_content variable\n",
    "#             combined_content += f\"\\n\\n--- URL: {url} ---\\n\\n\" + page_text\n",
    "\n",
    "#             # Find and queue all valid links on the page\n",
    "#             for a_tag in soup.find_all('a', href=True):\n",
    "#                 link = a_tag['href']\n",
    "#                 absolute_link = urljoin(start_url, link)\n",
    "\n",
    "#                 if is_valid_url(absolute_link, start_url) and absolute_link not in visited:\n",
    "#                     queue.append(absolute_link)\n",
    "\n",
    "#             time.sleep(1)  # Polite scraping delay\n",
    "#         except requests.exceptions.RequestException as e:\n",
    "#             print(f\"Error scraping {url}: {e}\")\n",
    "    \n",
    "#     # Save the combined content into a single text file\n",
    "#     save_combined_content(output_filename, combined_content)\n",
    "#     print(f\"All pages combined and saved in: {output_filename}\")\n",
    "\n",
    "# def save_combined_content(output_filename, content):\n",
    "#     # Create the directory if it doesn't exist\n",
    "#     directory = \"scraped_pages\"\n",
    "#     if not os.path.exists(directory):\n",
    "#         os.makedirs(directory)\n",
    "\n",
    "#     filepath = os.path.join(directory, output_filename)\n",
    "    \n",
    "#     # Write all the combined content to the file\n",
    "#     with open(filepath, 'w', encoding='utf-8') as file:\n",
    "#         file.write(content)\n",
    "\n",
    "# if __name__ == \"__main__\":\n",
    "#     website_url = \"https://api3.org\"  # Replace with the target website URL\n",
    "#     output_filename = \"example_com_combined.txt\"  # Name of the output file\n",
    "#     scrape_website(website_url, output_filename)\n"
   ]
  },
  {
   "cell_type": "code",
   "execution_count": null,
   "id": "f55d5e6f-5a4a-4d7e-9576-ae8b8f797292",
   "metadata": {},
   "outputs": [],
   "source": [
    "\n"
   ]
  },
  {
   "cell_type": "code",
   "execution_count": 4,
   "id": "61d53072-1232-407c-b080-fca337980d95",
   "metadata": {},
   "outputs": [],
   "source": [
    "#AGENTIC OUTREACH"
   ]
  },
  {
   "cell_type": "code",
   "execution_count": 5,
   "id": "58af1a76-1bff-48c2-8509-240b7853ca47",
   "metadata": {},
   "outputs": [],
   "source": []
  },
  {
   "cell_type": "code",
   "execution_count": 6,
   "id": "b53001ce-0f93-4ba7-b454-41a625119b45",
   "metadata": {},
   "outputs": [],
   "source": []
  },
  {
   "cell_type": "code",
   "execution_count": 7,
   "id": "7b6c95b7-591d-499b-b382-07500fffbcae",
   "metadata": {},
   "outputs": [],
   "source": []
  },
  {
   "cell_type": "code",
   "execution_count": 2,
   "id": "80da6210-ec6b-48bd-9198-e4db3709e7b2",
   "metadata": {},
   "outputs": [],
   "source": [
    "from langchain_community.document_loaders import TextLoader\n",
    "\n",
    "loader = TextLoader(\"model_background_personality.txt\")\n",
    "scrape_data1 = TextLoader(\"scraped_pages/1example_com_combined.txt\")\n",
    "\n",
    "loaded_data = loader.load()\n",
    "scrape_data1 = scrape_data1.load()\n"
   ]
  },
  {
   "cell_type": "code",
   "execution_count": 3,
   "id": "1fde5872-48d3-4fba-950d-991bb6ecb8f8",
   "metadata": {},
   "outputs": [],
   "source": [
    "\n",
    "#Loaded_data is the personality I gave the model in the model_background_personality.txt file. I told it to be a pirate. In the live version\n",
    "#change this to the background about API3 and the product. \n",
    "\n",
    "#it is a pirate doing cold outreach selling bananas. \n",
    "\n",
    "\n",
    "\n",
    "from langchain_core.prompts import ChatPromptTemplate\n",
    "\n",
    "chat_template = ChatPromptTemplate.from_messages(\n",
    "    [\n",
    "        (\"system\", \"You are a {kind_of_entity}.\"),\n",
    "        (\"human\", \"Hello, can you please answer a question?\"),\n",
    "        (\"ai\", \"Sure!\"),\n",
    "        (\"human\", \"{user_input}{scrape_detail}\"),\n",
    "    ]\n",
    ")\n",
    "\n",
    "messages = chat_template.format_messages(\n",
    "    kind_of_entity=str(loaded_data),\n",
    "   # topic=\"pirating\",\n",
    "    user_input= \"can you please write a cold outreach to a company? The following information is scraped from their website, so the format may be weird, but it should give clues about what they do:\",\n",
    "    scrape_detail=str(scrape_data1),\n",
    ")\n",
    "\n",
    "response = chatModel.invoke(messages)"
   ]
  },
  {
   "cell_type": "code",
   "execution_count": 4,
   "id": "f9eaad99-9768-4cc1-93b6-d080f02732f4",
   "metadata": {},
   "outputs": [
    {
     "name": "stdout",
     "output_type": "stream",
     "text": [
      "Subject: Unlock New Opportunities with API3\n",
      "\n",
      "Hi [Recipient's Name],\n",
      "\n",
      "I hope this message finds you well. My name is [Your Name], and I am a sales representative specializing in blockchain solutions. I recently came across API3 and was impressed by your innovative approach to bridging off-chain data with on-chain applications through your Airnode technology and decentralized APIs.\n",
      "\n",
      "As the demand for accurate and secure data feeds continues to grow in the DeFi space, I believe there's a significant opportunity for collaboration. Our data services could enhance your offerings, allowing you to provide even more value to developers and data providers within the ecosystem. \n",
      "\n",
      "I would love to discuss how we can partner to integrate our data solutions with API3's services, potentially increasing your market reach and revenue streams. \n",
      "\n",
      "Would you be open to a brief call next week to explore this further? \n",
      "\n",
      "Thank you for your time, and I look forward to your response.\n",
      "\n",
      "Best regards,\n",
      "\n",
      "[Your Name]  \n",
      "[Your Position]  \n",
      "[Your Company]  \n",
      "[Your Email]  \n",
      "[Your Phone Number]  \n"
     ]
    }
   ],
   "source": [
    "print(response.content) "
   ]
  },
  {
   "cell_type": "code",
   "execution_count": 5,
   "id": "85f7a773-9186-40ed-9317-00d19580265a",
   "metadata": {},
   "outputs": [],
   "source": [
    "from langchain_core.prompts import FewShotChatMessagePromptTemplate\n",
    "\n",
    "\n",
    "#examples are a way to train the model to react exactly how you want it to.\n",
    "#in the class example, this was is way to get it to speak Spanish\n",
    "#FewshotChatprompttemplate is just chatPromptTemplate with examples\n",
    "#Use this further modeling to refine the pitch, say waht works, what doesn't, etc.\n",
    "\n",
    "#train AI on how you want an outbound email to look. These are just two examples of how to train it:\n",
    "examples = [\n",
    "    {\"input\": \"hi!\", \"output\": \"¡hola!\"},\n",
    "    {\"input\": \"bye!\", \"output\": \"¡adiós!\"},\n",
    "]\n",
    "\n",
    "\n",
    "example_prompt = ChatPromptTemplate.from_messages(\n",
    "    [\n",
    "        (\"human\", \"{input}\"),\n",
    "        (\"ai\", \"{output}\"),\n",
    "    ]\n",
    ")\n",
    "\n",
    "few_shot_prompt = FewShotChatMessagePromptTemplate(\n",
    "    example_prompt=example_prompt,\n",
    "    examples=examples,\n",
    ")\n",
    "\n",
    "final_prompt = ChatPromptTemplate.from_messages(\n",
    "    [\n",
    "        (\"system\", \" you are only targeting Spanish speaking communities and are translating to spanish\"),\n",
    "        few_shot_prompt,\n",
    "        (\"human\", \"{input}\"),\n",
    "    ]\n",
    ")\n",
    "\n",
    "#a chain defines a sequence of order in which to run\n",
    "\n",
    "\n",
    "chain = final_prompt | chatModel"
   ]
  },
  {
   "cell_type": "code",
   "execution_count": 6,
   "id": "eb550660-4b38-4f78-a3b4-3a2d44d75dd8",
   "metadata": {},
   "outputs": [
    {
     "name": "stdout",
     "output_type": "stream",
     "text": [
      "¡Claro! Imaginemos que estoy vendiendo un purificador de aire.\n",
      "\n",
      "---\n",
      "\n",
      "¡Hola! ¿Te has dado cuenta de cuánto tiempo pasamos en interiores? La calidad del aire que respiramos en casa o en la oficina puede afectar nuestra salud y bienestar. Te presento nuestro purificador de aire de última generación.\n",
      "\n",
      "Este purificador no solo elimina el 99.9% de los alérgenos y contaminantes del aire, como el polvo, el polen y el moho, sino que también cuenta con un sistema de filtración HEPA que garantiza un ambiente más saludable para ti y tu familia. \n",
      "\n",
      "Además, su diseño elegante se adapta a cualquier espacio, y su funcionamiento es tan silencioso que apenas notarás que está trabajando. También cuenta con un temporizador y modos de funcionamiento que puedes ajustar según tus necesidades.\n",
      "\n",
      "Imagina respirar aire fresco y limpio todos los días. ¡Haz la inversión en tu salud y bienestar hoy! Con cada compra, te ofrecemos un 20% de descuento durante este mes. No dejes pasar esta oportunidad. \n",
      "\n",
      "¿Qué dices? ¿Te gustaría saber más sobre cómo mejorar la calidad del aire en tu hogar?\n",
      "\n",
      "--- \n",
      "\n",
      "¿Te gustaría que ajuste el enfoque o el producto?\n"
     ]
    }
   ],
   "source": [
    "print(chain.invoke({\"input\": \"please do a sales pitch to someone based on the product you sell\"}).content)"
   ]
  },
  {
   "cell_type": "code",
   "execution_count": 21,
   "id": "475c525b-f1b9-4954-9034-728b7c67de9d",
   "metadata": {},
   "outputs": [],
   "source": [
    "# FOR ADDITIONAL JSON PARSING STUFF< CHECK OUT THE PYDANTIC LIBRARY\n",
    "\n",
    "\n",
    "# from langchain_core.prompts import PromptTemplate\n",
    "# from langchain.output_parsers.json import SimpleJsonOutputParser\n",
    "\n",
    "# json_prompt = PromptTemplate.from_template(\n",
    "#     \"Return a JSON object with an `answer` key that answers the following question: {question}\"\n",
    "# )\n",
    "\n",
    "# json_parser = SimpleJsonOutputParser()\n",
    "\n",
    "# json_chain = json_prompt | llmModel | json_parser"
   ]
  },
  {
   "cell_type": "code",
   "execution_count": 24,
   "id": "2486f803-35dd-4fa8-b76a-c770b5fc16a1",
   "metadata": {},
   "outputs": [],
   "source": [
    "# json_parser.get_format_instructions()"
   ]
  },
  {
   "cell_type": "code",
   "execution_count": 25,
   "id": "e9b8a95b-5b40-4617-9367-29024f643ef2",
   "metadata": {},
   "outputs": [],
   "source": [
    "# json_chain.invoke({\"question\": \"What is the biggest country?\"})"
   ]
  },
  {
   "cell_type": "code",
   "execution_count": null,
   "id": "b27939aa-c158-4b7f-bcbb-9d93b21df195",
   "metadata": {},
   "outputs": [],
   "source": []
  },
  {
   "cell_type": "code",
   "execution_count": 33,
   "id": "7dadc2f4-08ec-4737-8f17-74fc1314fe25",
   "metadata": {},
   "outputs": [],
   "source": [
    "#AGENTIC ACCOUNT MANAGER"
   ]
  },
  {
   "cell_type": "code",
   "execution_count": 34,
   "id": "b7e1b5d2-2123-4f04-843c-b7fcc0af4b26",
   "metadata": {},
   "outputs": [],
   "source": [
    "#See if email went through, see if it was received"
   ]
  },
  {
   "cell_type": "code",
   "execution_count": 26,
   "id": "f65f6378-03b8-4041-a1bd-9c94b2e9e8d0",
   "metadata": {},
   "outputs": [],
   "source": [
    "#can you check if it was opened in Hubspot?"
   ]
  },
  {
   "cell_type": "code",
   "execution_count": 27,
   "id": "2287bca8-9405-4595-b3aa-9d1bf0a7c4bb",
   "metadata": {},
   "outputs": [],
   "source": [
    "#Can you see if you receive a message from Linkedin? If so, incorporate, if not dont"
   ]
  },
  {
   "cell_type": "code",
   "execution_count": 28,
   "id": "e12a893a-81c8-4b17-932d-83a0ff629b2f",
   "metadata": {},
   "outputs": [],
   "source": [
    "#If no response, move on to next contact, with context of previous conversations"
   ]
  },
  {
   "cell_type": "code",
   "execution_count": null,
   "id": "07ed06f9-d74b-4e7a-8a14-437d5cb9e413",
   "metadata": {},
   "outputs": [],
   "source": []
  }
 ],
 "metadata": {
  "kernelspec": {
   "display_name": "Python 3 (ipykernel)",
   "language": "python",
   "name": "python3"
  },
  "language_info": {
   "codemirror_mode": {
    "name": "ipython",
    "version": 3
   },
   "file_extension": ".py",
   "mimetype": "text/x-python",
   "name": "python",
   "nbconvert_exporter": "python",
   "pygments_lexer": "ipython3",
   "version": "3.11.4"
  }
 },
 "nbformat": 4,
 "nbformat_minor": 5
}
