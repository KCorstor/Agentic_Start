{
 "cells": [
  {
   "cell_type": "code",
   "execution_count": 1,
   "id": "daab331c",
   "metadata": {},
   "outputs": [
    {
     "name": "stdout",
     "output_type": "stream",
     "text": [
      "/Users/kevincorstorphine/Desktop/Agentic_Start/b401-master 2/b401\n",
      "Loading .env file from: /Users/kevincorstorphine/Desktop/Agentic_Start/b401-master 2/b401/.env\n"
     ]
    }
   ],
   "source": [
    "#\n",
    "\n",
    "#All of the dependencies are listed in the .toml file. Ensure those are going with Poetry\n",
    "#ensure your .env file is in the right place \n",
    "\n",
    "#make sure you're using poetry shell to get all of the dependencies going in your folder\n",
    "\n",
    "import os\n",
    "from dotenv import load_dotenv, find_dotenv\n",
    "_ = load_dotenv(find_dotenv())\n",
    "openai_api_key = os.environ[\"OPENAI_API_KEY\"]\n",
    "\n",
    "print(os.getcwd())\n",
    "dotenv_path = find_dotenv()\n",
    "print(f\"Loading .env file from: {dotenv_path}\")\n",
    "_ = load_dotenv(dotenv_path)\n",
    "\n",
    "\n",
    "from langchain_core.prompts import PromptTemplate\n",
    "from langchain_core.prompts import FewShotChatMessagePromptTemplate\n",
    "from langchain_core.prompts import ChatPromptTemplate\n",
    "\n",
    "from langchain_openai import OpenAI\n",
    "from langchain_openai import ChatOpenAI\n",
    "\n",
    "creativeLlmModel = OpenAI(temperature=0.9)\n",
    "chatModel = ChatOpenAI(model=\"gpt-4o-mini\")\n",
    "llmModel = OpenAI()"
   ]
  },
  {
   "cell_type": "code",
   "execution_count": null,
   "id": "12b0006a-925a-475d-bf4a-3faf78ae322f",
   "metadata": {},
   "outputs": [],
   "source": []
  },
  {
   "cell_type": "code",
   "execution_count": 2,
   "id": "14f340c7-4140-4569-8bb9-afa9f88723f6",
   "metadata": {},
   "outputs": [],
   "source": [
    "#AGENTIC BDR"
   ]
  },
  {
   "cell_type": "code",
   "execution_count": 3,
   "id": "8b780990-df0c-4cc3-9535-d06e851f3c41",
   "metadata": {},
   "outputs": [],
   "source": [
    "#Enter name of town to database\n",
    "# Call yelp, or google map, or whatever API\n",
    "# Get list of Businesses back\n",
    "#Store in database\n",
    "#use Linkedin to find best contacts for each business\n",
    "#store in database\n",
    "#Use Zoominfo? to find their email or contact information for every contact\n",
    "#Store in Database\n",
    "#Use Webscraper to write a summary for each lead\n",
    "#store in Database"
   ]
  },
  {
   "cell_type": "code",
   "execution_count": null,
   "id": "f91f1ec0-1181-4624-b991-a5ac82266f6b",
   "metadata": {},
   "outputs": [],
   "source": []
  },
  {
   "cell_type": "code",
   "execution_count": null,
   "id": "991bf55f-b926-4da8-861c-4a9e468464ba",
   "metadata": {},
   "outputs": [],
   "source": []
  },
  {
   "cell_type": "code",
   "execution_count": 3,
   "id": "7e3dfe62-dda8-4076-8a6d-edaa6b149a33",
   "metadata": {},
   "outputs": [
    {
     "name": "stdout",
     "output_type": "stream",
     "text": [
      "Scraping: https://api3.org\n",
      "Scraping: https://api3.org/\n",
      "Scraping: https://api3.org/oev\n",
      "Scraping: https://api3.org/data-feeds\n",
      "Scraping: https://api3.org/qrng\n",
      "Scraping: https://api3.org/web3-apis\n",
      "Scraping: https://api3.org/airnode\n",
      "Scraping: https://api3.org/api3-alliance\n",
      "Scraping: https://api3.org/dao\n",
      "Scraping: https://api3.org/open-positions\n",
      "Scraping: https://api3.org/contact\n",
      "Scraping: https://api3.org/privacy-policy\n",
      "Scraping: https://api3.org/privacy-and-cookies\n",
      "Scraping: https://api3.org/terms-and-conditions\n",
      "Scraping: https://api3.org/web3-apis/Celitech Bee API\n",
      "Scraping: https://api3.org/web3-apis/Crypto API\n",
      "Scraping: https://api3.org/web3-apis/Quadency Unified API\n",
      "Scraping: https://api3.org/web3-apis/PWP Leeway\n",
      "Scraping: https://api3.org/web3-apis/Paradigm API\n",
      "Scraping: https://api3.org/web3-apis/Catallact API\n",
      "Scraping: https://api3.org/web3-apis/Bird API\n",
      "Scraping: https://api3.org/web3-apis/Asteria API\n",
      "Scraping: https://api3.org/web3-apis/Melodie API\n",
      "Scraping: https://api3.org/web3-apis/Address Verification API\n",
      "Scraping: https://api3.org/web3-apis/INFRD Insurance API\n",
      "Scraping: https://api3.org/web3-apis/Identity Authentication API\n",
      "Scraping: https://api3.org/web3-apis/The Authoritas SERP API\n",
      "Scraping: https://api3.org/web3-apis/Benzinga Market News API\n",
      "Scraping: https://api3.org/web3-apis/SMS Gateway API\n",
      "Scraping: https://api3.org/cdn-cgi/l/email-protection#365e535a467657465f0518594451\n",
      "Scraping: https://api3.org/cdn-cgi/l/email-protection#76151918021715023617061f4558190411\n",
      "Scraping: https://api3.org/cdn-cgi/l/email-protection#7f1c10110b1e1c0b3f1e0f164c51100d18\n",
      "Scraping: https://api3.org/cdn-cgi/l/email-protection#0f6c60617b6e6c7b4f6e7f663c21607d68\n",
      "Scraping: https://api3.org/cdn-cgi/l/email-protection#26454948524745526647564f1508495441\n",
      "Scraping: https://api3.org/cdn-cgi/l/email-protection#3f5c50514b5e5c4b7f5e4f560c11504d58\n",
      "Scraping: https://api3.org/cdn-cgi/l/email-protection#daa9afaaaab5a8ae9abbaab3e9f4b9b5b7\n",
      "Scraping: https://api3.org/cdn-cgi/l/email-protection#c8aba7a6bca9abbc88a9b8a1fbe6a7baaf\n",
      "Scraping: https://api3.org/cdn-cgi/l/email-protection#2e4d41405a4f4d5a6e4f5e471d00415c49\n",
      "Scraping: https://api3.org/cdn-cgi/l/email-protection#5f3c30312b3e3c2b1f3e2f366c71302d38\n",
      "Scraping: https://api3.org/cdn-cgi/l/email-protection#31525e5f4550524571504158021f5e4356\n",
      "Scraping: https://api3.org/cdn-cgi/l/email-protection\n",
      "Scraping: https://api3.org/cdn-cgi/l/email-protection#90f3fffee4f1f3e4d0f1e0f9a3beffe2f7\n",
      "Scraping: https://api3.org/cdn-cgi/l/email-protection#d6b5b9b8a2b7b5a296b7a6bfe5f8b9a4b1\n",
      "Scraping: https://api3.org/cdn-cgi/l/email-protection#9beff1dbf9fef5e1f2f5fcfab5f8f4f6\n",
      "All pages combined and saved in: example_com_combined.txt\n"
     ]
    }
   ],
   "source": [
    "#Web Scraper\n",
    "\n",
    "from bs4 import BeautifulSoup\n",
    "from urllib.parse import urljoin, urlparse\n",
    "from collections import deque\n",
    "import time\n",
    "import os\n",
    "import requests\n",
    "\n",
    "def is_valid_url(url, base_url):\n",
    "    parsed_base_url = urlparse(base_url)\n",
    "    parsed_url = urlparse(url)\n",
    "    return parsed_url.scheme in ['http', 'https'] and parsed_base_url.netloc == parsed_url.netloc\n",
    "\n",
    "def scrape_website(start_url, output_filename):\n",
    "    visited = set()\n",
    "    queue = deque([start_url])\n",
    "    combined_content = \"\"  # Variable to store all the scraped content\n",
    "\n",
    "    while queue:\n",
    "        url = queue.popleft()\n",
    "\n",
    "        if url in visited:\n",
    "            continue\n",
    "\n",
    "        visited.add(url)\n",
    "        print(f\"Scraping: {url}\")\n",
    "        \n",
    "        try:\n",
    "            response = requests.get(url)\n",
    "            if response.status_code != 200:\n",
    "                continue\n",
    "\n",
    "            soup = BeautifulSoup(response.text, 'html.parser')\n",
    "            page_text = soup.get_text()\n",
    "\n",
    "            # Append the content of this page to the combined_content variable\n",
    "            combined_content += f\"\\n\\n--- URL: {url} ---\\n\\n\" + page_text\n",
    "\n",
    "            # Find and queue all valid links on the page\n",
    "            for a_tag in soup.find_all('a', href=True):\n",
    "                link = a_tag['href']\n",
    "                absolute_link = urljoin(start_url, link)\n",
    "\n",
    "                if is_valid_url(absolute_link, start_url) and absolute_link not in visited:\n",
    "                    queue.append(absolute_link)\n",
    "\n",
    "            time.sleep(1)  # Polite scraping delay\n",
    "        except requests.exceptions.RequestException as e:\n",
    "            print(f\"Error scraping {url}: {e}\")\n",
    "    \n",
    "    # Save the combined content into a single text file\n",
    "    save_combined_content(output_filename, combined_content)\n",
    "    print(f\"All pages combined and saved in: {output_filename}\")\n",
    "\n",
    "def save_combined_content(output_filename, content):\n",
    "    # Create the directory if it doesn't exist\n",
    "    directory = \"scraped_pages\"\n",
    "    if not os.path.exists(directory):\n",
    "        os.makedirs(directory)\n",
    "\n",
    "    filepath = os.path.join(directory, output_filename)\n",
    "    \n",
    "    # Write all the combined content to the file\n",
    "    with open(filepath, 'w', encoding='utf-8') as file:\n",
    "        file.write(content)\n",
    "\n",
    "if __name__ == \"__main__\":\n",
    "    website_url = \"https://api3.org\"  # Replace with the target website URL\n",
    "    output_filename = \"example_com_combined.txt\"  # Name of the output file\n",
    "    scrape_website(website_url, output_filename)\n"
   ]
  },
  {
   "cell_type": "code",
   "execution_count": null,
   "id": "f55d5e6f-5a4a-4d7e-9576-ae8b8f797292",
   "metadata": {},
   "outputs": [],
   "source": [
    "\n"
   ]
  },
  {
   "cell_type": "code",
   "execution_count": 4,
   "id": "61d53072-1232-407c-b080-fca337980d95",
   "metadata": {},
   "outputs": [],
   "source": [
    "#AGENTIC OUTREACH"
   ]
  },
  {
   "cell_type": "code",
   "execution_count": 5,
   "id": "58af1a76-1bff-48c2-8509-240b7853ca47",
   "metadata": {},
   "outputs": [],
   "source": [
    "#Get PCIO Materials, Tain LLM to talk from that perspective\n",
    "#Train LLM to read each summary of each business\n",
    "#Draft a cold outreach email \n"
   ]
  },
  {
   "cell_type": "code",
   "execution_count": 6,
   "id": "b53001ce-0f93-4ba7-b454-41a625119b45",
   "metadata": {},
   "outputs": [],
   "source": [
    "#To adjust temperature 0 is matter of fact, 1 is humanism, and 2 is crazy creativity weirdness.\n",
    "#The system is what we program openAI to feel like, and the human is the person asking the question/command\n",
    "#to see how to put other models in, check out lesson 0002\n",
    "\n",
    "\n",
    "#from langchain_openai import ChatOpenAI\n",
    "#chatModel = ChatOpenAI(model=\"gpt-3.5-turbo-0125\")\n",
    "\n",
    "#messages = [\n",
    " #   (\"system\", \"your name is Steve, the potty training guru and you're really proud of a child named Wyatt for potty training today.\"),\n",
    " #   (\"human\", \"how was your day steve, and are you feeling any emotions today?.\"),\n",
    "\n",
    "#response = chatModel.invoke(messages)"
   ]
  },
  {
   "cell_type": "code",
   "execution_count": 7,
   "id": "7b6c95b7-591d-499b-b382-07500fffbcae",
   "metadata": {},
   "outputs": [],
   "source": [
    "#print(response.content)\n",
    "#if you want a response that shows the token information, just put response with no quotations or anything"
   ]
  },
  {
   "cell_type": "code",
   "execution_count": 9,
   "id": "80da6210-ec6b-48bd-9198-e4db3709e7b2",
   "metadata": {},
   "outputs": [],
   "source": [
    "from langchain_community.document_loaders import TextLoader\n",
    "\n",
    "loader = TextLoader(\"model_background_personality.txt\")\n",
    "scrape_data1 = TextLoader(\"scraped_pages/example_com_combined.txt\")\n",
    "\n",
    "loaded_data = loader.load()\n",
    "scrape_data1 = scrape_data1.load()\n"
   ]
  },
  {
   "cell_type": "code",
   "execution_count": 10,
   "id": "1fde5872-48d3-4fba-950d-991bb6ecb8f8",
   "metadata": {},
   "outputs": [],
   "source": [
    "\n",
    "#Loaded_data is the personality I gave the model in the model_background_personality.txt file. I told it to be a pirate. In the live version\n",
    "#change this to the background about API3 and the product. \n",
    "\n",
    "#it is a pirate doing cold outreach selling bananas. \n",
    "\n",
    "\n",
    "\n",
    "from langchain_core.prompts import ChatPromptTemplate\n",
    "\n",
    "chat_template = ChatPromptTemplate.from_messages(\n",
    "    [\n",
    "        (\"system\", \"You are a {kind_of_entity}.\"),\n",
    "        (\"human\", \"Hello, can you please answer a question?\"),\n",
    "        (\"ai\", \"Sure!\"),\n",
    "        (\"human\", \"{user_input}{scrape_detail}\"),\n",
    "    ]\n",
    ")\n",
    "\n",
    "messages = chat_template.format_messages(\n",
    "    kind_of_entity=str(loaded_data),\n",
    "   # topic=\"pirating\",\n",
    "    user_input= \"can you please write a cold outreach to a company? The following information is scraped from their website, so the format may be weird, but it should give clues about what they do:\",\n",
    "    scrape_detail=str(scrape_data1),\n",
    ")\n",
    "\n",
    "response = chatModel.invoke(messages)"
   ]
  },
  {
   "cell_type": "code",
   "execution_count": 11,
   "id": "f9eaad99-9768-4cc1-93b6-d080f02732f4",
   "metadata": {},
   "outputs": [
    {
     "name": "stdout",
     "output_type": "stream",
     "text": [
      "Ahoy there, matey! Here be a cold outreach crafted fer the fine crew at API3, where the winds o' blockchain be blowin' strong! \n",
      "\n",
      "---\n",
      "\n",
      "**Subject:** Set Sail with API3: A Bright Opportunity Awaits!\n",
      "\n",
      "Ahoy API3 Crew,\n",
      "\n",
      "I be reachin' out to ye with a treasure trove of possibilities! I be a humble sales representative, knowin' the ins and outs of the blockchain seas, and I be lookin’ to chart a course with ye.\n",
      "\n",
      "I see that ye be providin' dAPIs that connect real-world data to decentralized applications without the pesky middlemen. This be a fine endeavor, indeed! I believe I possess valuable data that could bolster yer offerings, helpin' ye recapture lost value fer decentralized applications and pave the way fer even more secure and transparent DeFi experiences.\n",
      "\n",
      "Allow me to regale ye with the merits of partnerin’ with me! By sharin' me data with API3, ye can enhance yer dAPI services and provide yer users with even greater reliability. Together, we can create a symbiotic relationship that not only benefits our crews but also makes waves in the broader blockchain community.\n",
      "\n",
      "If ye be interested in learnin’ more, I’d be more than happy to schedule a time to discuss how we can work together fer greater riches. \n",
      "\n",
      "Lookin' forward to yer reply, and may the blockchain winds be at our backs!\n",
      "\n",
      "Fair winds and following seas,\n",
      "\n",
      "[Your Name]  \n",
      "[Your Position]  \n",
      "[Your Company]  \n",
      "[Your Contact Information]  \n",
      "\n",
      "---\n",
      "\n",
      "There ye have it, me hearty! Feel free to tweak it as ye see fit before sendin' it off! Arrr!\n"
     ]
    }
   ],
   "source": [
    "print(response.content) "
   ]
  },
  {
   "cell_type": "code",
   "execution_count": 7,
   "id": "85f7a773-9186-40ed-9317-00d19580265a",
   "metadata": {},
   "outputs": [],
   "source": [
    "from langchain_core.prompts import FewShotChatMessagePromptTemplate\n",
    "\n",
    "\n",
    "#examples are a way to train the model to react exactly how you want it to.\n",
    "#in the class example, this was is way to get it to speak Spanish\n",
    "#FewshotChatprompttemplate is just chatPromptTemplate with examples\n",
    "#Use this further modeling to refine the pitch, say waht works, what doesn't, etc.\n",
    "\n",
    "#train AI on how you want an outbound email to look. These are just two examples of how to train it:\n",
    "examples = [\n",
    "    {\"input\": \"hi!\", \"output\": \"¡hola!\"},\n",
    "    {\"input\": \"bye!\", \"output\": \"¡adiós!\"},\n",
    "]\n",
    "\n",
    "\n",
    "example_prompt = ChatPromptTemplate.from_messages(\n",
    "    [\n",
    "        (\"human\", \"{input}\"),\n",
    "        (\"ai\", \"{output}\"),\n",
    "    ]\n",
    ")\n",
    "\n",
    "few_shot_prompt = FewShotChatMessagePromptTemplate(\n",
    "    example_prompt=example_prompt,\n",
    "    examples=examples,\n",
    ")\n",
    "\n",
    "final_prompt = ChatPromptTemplate.from_messages(\n",
    "    [\n",
    "        (\"system\", \" you are only targeting Spanish speaking communities and are translating to spanish\"),\n",
    "        few_shot_prompt,\n",
    "        (\"human\", \"{input}\"),\n",
    "    ]\n",
    ")\n",
    "\n",
    "#a chain defines a sequence of order in which to run\n",
    "\n",
    "\n",
    "chain = final_prompt | chatModel"
   ]
  },
  {
   "cell_type": "code",
   "execution_count": 8,
   "id": "eb550660-4b38-4f78-a3b4-3a2d44d75dd8",
   "metadata": {},
   "outputs": [
    {
     "name": "stdout",
     "output_type": "stream",
     "text": [
      "¡Claro! Aquí tienes un ejemplo de un discurso de ventas para un producto imaginario, digamos, un purificador de agua.\n",
      "\n",
      "---\n",
      "\n",
      "¡Hola! ¿Sabías que el agua que consumes puede contener impurezas que afectan tu salud y bienestar? Te presento el Purificador de Agua EcoClean, la solución perfecta para garantizar que tú y tu familia beban agua pura y saludable.\n",
      "\n",
      "El Purificador de Agua EcoClean utiliza tecnología avanzada de filtración que elimina hasta el 99% de bacterias, virus y contaminantes. Con solo un botón, puedes disfrutar de agua fresca y limpia en cualquier momento. Además, su diseño elegante y compacto se adapta perfectamente a cualquier cocina.\n",
      "\n",
      "Imagina poder hacer té, café o preparar alimentos con agua completamente pura. No solo mejorarás el sabor de tus bebidas y comidas, sino que también estarás protegiendo la salud de tus seres queridos.\n",
      "\n",
      "Y lo mejor de todo, el EcoClean es ecológico. Reduce la necesidad de comprar botellas de plástico, así que estarás contribuyendo a cuidar nuestro planeta.\n",
      "\n",
      "¡Y por tiempo limitado, ofrecemos un 20% de descuento en tu primera compra! No pierdas la oportunidad de darle a tu familia el regalo de agua pura. ¿Te gustaría saber más sobre cómo adquirirlo?\n",
      "\n",
      "---\n",
      "\n",
      "¿Qué te parece?\n"
     ]
    }
   ],
   "source": [
    "print(chain.invoke({\"input\": \"please do a sales pitch to someone based on the product you sell\"}).content)"
   ]
  },
  {
   "cell_type": "code",
   "execution_count": 21,
   "id": "475c525b-f1b9-4954-9034-728b7c67de9d",
   "metadata": {},
   "outputs": [],
   "source": [
    "# FOR ADDITIONAL JSON PARSING STUFF< CHECK OUT THE PYDANTIC LIBRARY\n",
    "\n",
    "\n",
    "# from langchain_core.prompts import PromptTemplate\n",
    "# from langchain.output_parsers.json import SimpleJsonOutputParser\n",
    "\n",
    "# json_prompt = PromptTemplate.from_template(\n",
    "#     \"Return a JSON object with an `answer` key that answers the following question: {question}\"\n",
    "# )\n",
    "\n",
    "# json_parser = SimpleJsonOutputParser()\n",
    "\n",
    "# json_chain = json_prompt | llmModel | json_parser"
   ]
  },
  {
   "cell_type": "code",
   "execution_count": 24,
   "id": "2486f803-35dd-4fa8-b76a-c770b5fc16a1",
   "metadata": {},
   "outputs": [],
   "source": [
    "# json_parser.get_format_instructions()"
   ]
  },
  {
   "cell_type": "code",
   "execution_count": 25,
   "id": "e9b8a95b-5b40-4617-9367-29024f643ef2",
   "metadata": {},
   "outputs": [],
   "source": [
    "# json_chain.invoke({\"question\": \"What is the biggest country?\"})"
   ]
  },
  {
   "cell_type": "code",
   "execution_count": null,
   "id": "b27939aa-c158-4b7f-bcbb-9d93b21df195",
   "metadata": {},
   "outputs": [],
   "source": []
  },
  {
   "cell_type": "code",
   "execution_count": 33,
   "id": "7dadc2f4-08ec-4737-8f17-74fc1314fe25",
   "metadata": {},
   "outputs": [],
   "source": [
    "#AGENTIC ACCOUNT MANAGER"
   ]
  },
  {
   "cell_type": "code",
   "execution_count": 34,
   "id": "b7e1b5d2-2123-4f04-843c-b7fcc0af4b26",
   "metadata": {},
   "outputs": [],
   "source": [
    "#See if email went through, see if it was received"
   ]
  },
  {
   "cell_type": "code",
   "execution_count": 26,
   "id": "f65f6378-03b8-4041-a1bd-9c94b2e9e8d0",
   "metadata": {},
   "outputs": [],
   "source": [
    "#can you check if it was opened in Hubspot?"
   ]
  },
  {
   "cell_type": "code",
   "execution_count": 27,
   "id": "2287bca8-9405-4595-b3aa-9d1bf0a7c4bb",
   "metadata": {},
   "outputs": [],
   "source": [
    "#Can you see if you receive a message from Linkedin? If so, incorporate, if not dont"
   ]
  },
  {
   "cell_type": "code",
   "execution_count": 28,
   "id": "e12a893a-81c8-4b17-932d-83a0ff629b2f",
   "metadata": {},
   "outputs": [],
   "source": [
    "#If no response, move on to next contact, with context of previous conversations"
   ]
  },
  {
   "cell_type": "code",
   "execution_count": null,
   "id": "07ed06f9-d74b-4e7a-8a14-437d5cb9e413",
   "metadata": {},
   "outputs": [],
   "source": []
  }
 ],
 "metadata": {
  "kernelspec": {
   "display_name": "Python 3 (ipykernel)",
   "language": "python",
   "name": "python3"
  },
  "language_info": {
   "codemirror_mode": {
    "name": "ipython",
    "version": 3
   },
   "file_extension": ".py",
   "mimetype": "text/x-python",
   "name": "python",
   "nbconvert_exporter": "python",
   "pygments_lexer": "ipython3",
   "version": "3.11.4"
  }
 },
 "nbformat": 4,
 "nbformat_minor": 5
}
