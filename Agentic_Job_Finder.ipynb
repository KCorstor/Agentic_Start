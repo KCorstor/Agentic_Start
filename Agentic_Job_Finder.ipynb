{
 "cells": [
  {
   "cell_type": "code",
   "execution_count": 2,
   "id": "b1f022f3-f31e-4d70-b72c-46f02d2dd4e8",
   "metadata": {},
   "outputs": [],
   "source": [
    "#Automate finding commission-only jobs \n",
    "# Look at Indeed, find commission only jobs that you think you could do, apply for them, and get a meeting AUTOMATE THIS"
   ]
  },
  {
   "cell_type": "code",
   "execution_count": null,
   "id": "e10aa5d5-93a1-4b23-be2a-3e469cd1c3ce",
   "metadata": {},
   "outputs": [],
   "source": []
  }
 ],
 "metadata": {
  "kernelspec": {
   "display_name": "Python 3 (ipykernel)",
   "language": "python",
   "name": "python3"
  },
  "language_info": {
   "codemirror_mode": {
    "name": "ipython",
    "version": 3
   },
   "file_extension": ".py",
   "mimetype": "text/x-python",
   "name": "python",
   "nbconvert_exporter": "python",
   "pygments_lexer": "ipython3",
   "version": "3.11.4"
  }
 },
 "nbformat": 4,
 "nbformat_minor": 5
}
