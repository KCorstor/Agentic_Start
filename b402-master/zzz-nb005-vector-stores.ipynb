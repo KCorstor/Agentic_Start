{
 "cells": [
  {
   "cell_type": "markdown",
   "id": "465c003a-29cf-4cfe-a0c6-d36c04ae2b37",
   "metadata": {},
   "source": [
    "# Vector Stores (aka. Vector Databases)\n",
    "* Store embeddings in a very fast searchable database."
   ]
  },
  {
   "cell_type": "markdown",
   "id": "be46161e-45e9-46d7-8214-bcbea10aff2e",
   "metadata": {},
   "source": [
    "## Setup"
   ]
  },
  {
   "cell_type": "markdown",
   "id": "871e0018-cba4-4959-881a-0a65093d202d",
   "metadata": {},
   "source": [
    "#### After you download the code from the github repository in your computer\n",
    "In terminal:\n",
    "* cd project_name\n",
    "* pyenv local 3.11.4\n",
    "* poetry install\n",
    "* poetry shell"
   ]
  },
  {
   "cell_type": "markdown",
   "id": "4065e336-d054-412c-8a3f-1fbec63e1bcd",
   "metadata": {},
   "source": [
    "#### To open the notebook with Jupyter Notebooks\n",
    "In terminal:\n",
    "* jupyter lab\n",
    "\n",
    "Go to the folder of notebooks and open the right notebook."
   ]
  },
  {
   "cell_type": "markdown",
   "id": "62dda8d4-80cf-4b8f-9981-94edda5e9911",
   "metadata": {},
   "source": [
    "#### To see the code in Virtual Studio Code or your editor of choice.\n",
    "* open Virtual Studio Code or your editor of choice.\n",
    "* open the project-folder\n",
    "* open the 004-vector-stores.py file"
   ]
  },
  {
   "cell_type": "markdown",
   "id": "af743328-1bc8-4b01-85fb-fcb21c6499c2",
   "metadata": {},
   "source": [
    "## Create your .env file\n",
    "* In the github repo we have included a file named .env.example\n",
    "* Rename that file to .env file and here is where you will add your confidential api keys. Remember to include:\n",
    "* OPENAI_API_KEY=your_openai_api_key\n",
    "* LANGCHAIN_TRACING_V2=true\n",
    "* LANGCHAIN_ENDPOINT=https://api.smith.langchain.com\n",
    "* LANGCHAIN_API_KEY=your_langchain_api_key\n",
    "* LANGCHAIN_PROJECT=your_project_name"
   ]
  },
  {
   "cell_type": "markdown",
   "id": "863dd299-0780-49ad-a1b7-b76e249350da",
   "metadata": {},
   "source": [
    "We will call our LangSmith project **004-vector-stores**."
   ]
  },
  {
   "cell_type": "markdown",
   "id": "40e766aa-f3e2-491f-be99-d0c6b700d47a",
   "metadata": {},
   "source": [
    "## Track operations\n",
    "From now on, we can track the operations **and the cost** of this project from LangSmith:\n",
    "* [smith.langchain.com](https://smith.langchain.com)"
   ]
  },
  {
   "cell_type": "markdown",
   "id": "4f99504a-1b8f-4360-b342-0b81ffa06aff",
   "metadata": {},
   "source": [
    "## Connect with the .env file located in the same directory of this notebook"
   ]
  },
  {
   "cell_type": "markdown",
   "id": "e39e5789-5bde-42e1-88dd-92dc8e363c24",
   "metadata": {},
   "source": [
    "If you are using the pre-loaded poetry shell, you do not need to install the following package because it is already pre-loaded for you:"
   ]
  },
  {
   "cell_type": "code",
   "execution_count": 1,
   "id": "c5514113-ddca-4ae9-9de6-0b9225b18f3c",
   "metadata": {},
   "outputs": [],
   "source": [
    "#pip install python-dotenv"
   ]
  },
  {
   "cell_type": "code",
   "execution_count": 9,
   "id": "fecd39d0-e72e-4bc2-8a68-2fa4008ea365",
   "metadata": {},
   "outputs": [],
   "source": [
    "import os\n",
    "from dotenv import load_dotenv, find_dotenv\n",
    "_ = load_dotenv(find_dotenv())\n",
    "openai_api_key = os.environ[\"OPENAI_API_KEY\"]"
   ]
  },
  {
   "cell_type": "markdown",
   "id": "03f4a923-b19e-498e-9be5-e47ec4a77d80",
   "metadata": {},
   "source": [
    "#### Install LangChain"
   ]
  },
  {
   "cell_type": "markdown",
   "id": "9fef1e5c-b7e2-4a04-96c5-8f64377b8eba",
   "metadata": {},
   "source": [
    "If you are using the pre-loaded poetry shell, you do not need to install the following package because it is already pre-loaded for you:"
   ]
  },
  {
   "cell_type": "code",
   "execution_count": 10,
   "id": "c1cf94ae-6c39-4475-9c5b-4b74d8d78753",
   "metadata": {},
   "outputs": [],
   "source": [
    "#!pip install langchain"
   ]
  },
  {
   "cell_type": "markdown",
   "id": "189e9e17-dfb0-4fd3-85b9-1fba83771941",
   "metadata": {},
   "source": [
    "## Connect with an LLM"
   ]
  },
  {
   "cell_type": "markdown",
   "id": "b21d23f4-61f5-4227-8a75-7eefde6680ee",
   "metadata": {},
   "source": [
    "If you are using the pre-loaded poetry shell, you do not need to install the following package because it is already pre-loaded for you:"
   ]
  },
  {
   "cell_type": "code",
   "execution_count": 11,
   "id": "148df8e0-361d-4ddd-8709-af48fa1648d1",
   "metadata": {},
   "outputs": [],
   "source": [
    "#!pip install langchain-openai"
   ]
  },
  {
   "cell_type": "markdown",
   "id": "a1998155-91de-4cbc-bc88-8d77beefb51b",
   "metadata": {},
   "source": [
    "* NOTE: Since right now is the best LLM in the market, we will use OpenAI by default. You will see how to connect with other Open Source LLMs like Llama3 or Mistral in a next lesson."
   ]
  },
  {
   "cell_type": "code",
   "execution_count": 12,
   "id": "209b683b-5edc-4418-9468-34c12f1172d8",
   "metadata": {},
   "outputs": [],
   "source": [
    "from langchain_openai import ChatOpenAI\n",
    "\n",
    "chatModel = ChatOpenAI(model=\"gpt-3.5-turbo-0125\")"
   ]
  },
  {
   "cell_type": "markdown",
   "id": "c811b84c-7054-49dd-b0ac-30f327f648a0",
   "metadata": {},
   "source": [
    "## Reminder: Steps of the RAG process.\n",
    "* When you load a document, you end up with strings. Sometimes the strings will be too large to fit into the context window. In those occassions we will use the RAG technique:\n",
    "    * Split document in small chunks.\n",
    "    * Transform text chunks in numeric chunks (embeddings).\n",
    "    * **Load embeddings to a vector database (aka vector store)**.\n",
    "    * Load question and retrieve the most relevant embeddings to respond it.\n",
    "    * Sent the embeddings to the LLM to format the response properly."
   ]
  },
  {
   "cell_type": "markdown",
   "id": "c573cdd8-3aff-488b-8649-4050a42e26c4",
   "metadata": {},
   "source": [
    "## Vector databases (aka vector stores): store and search embeddings\n",
    "* See the documentation page [here](https://python.langchain.com/v0.1/docs/modules/data_connection/vectorstores/).\n",
    "* See the list of vector stores [here](https://python.langchain.com/v0.1/docs/integrations/vectorstores/)."
   ]
  },
  {
   "cell_type": "markdown",
   "id": "055b5f44-5c40-4eb7-aa25-f1591b0f1580",
   "metadata": {},
   "source": [
    "If you are using the pre-loaded poetry shell, you do not need to install the following package because it is already pre-loaded for you:"
   ]
  },
  {
   "cell_type": "code",
   "execution_count": 13,
   "id": "25bbb79b-595f-44e8-b146-65152becb321",
   "metadata": {},
   "outputs": [
    {
     "name": "stdout",
     "output_type": "stream",
     "text": [
      "Requirement already satisfied: langchain-chroma in /Users/kevincorstorphine/Library/Caches/pypoetry/virtualenvs/a003-poetry-setup-nf8eJWHB-py3.11/lib/python3.11/site-packages (0.1.4)\n",
      "Requirement already satisfied: chromadb!=0.5.4,!=0.5.5,<0.6.0,>=0.4.0 in /Users/kevincorstorphine/Library/Caches/pypoetry/virtualenvs/a003-poetry-setup-nf8eJWHB-py3.11/lib/python3.11/site-packages (from langchain-chroma) (0.5.7)\n",
      "Requirement already satisfied: fastapi<1,>=0.95.2 in /Users/kevincorstorphine/Library/Caches/pypoetry/virtualenvs/a003-poetry-setup-nf8eJWHB-py3.11/lib/python3.11/site-packages (from langchain-chroma) (0.115.0)\n",
      "Requirement already satisfied: langchain-core<0.4,>=0.1.40 in /Users/kevincorstorphine/Library/Caches/pypoetry/virtualenvs/a003-poetry-setup-nf8eJWHB-py3.11/lib/python3.11/site-packages (from langchain-chroma) (0.2.22)\n",
      "Requirement already satisfied: numpy<2,>=1 in /Users/kevincorstorphine/Library/Caches/pypoetry/virtualenvs/a003-poetry-setup-nf8eJWHB-py3.11/lib/python3.11/site-packages (from langchain-chroma) (1.26.4)\n",
      "Requirement already satisfied: build>=1.0.3 in /Users/kevincorstorphine/Library/Caches/pypoetry/virtualenvs/a003-poetry-setup-nf8eJWHB-py3.11/lib/python3.11/site-packages (from chromadb!=0.5.4,!=0.5.5,<0.6.0,>=0.4.0->langchain-chroma) (1.2.2)\n",
      "Requirement already satisfied: pydantic>=1.9 in /Users/kevincorstorphine/Library/Caches/pypoetry/virtualenvs/a003-poetry-setup-nf8eJWHB-py3.11/lib/python3.11/site-packages (from chromadb!=0.5.4,!=0.5.5,<0.6.0,>=0.4.0->langchain-chroma) (2.8.2)\n",
      "Requirement already satisfied: chroma-hnswlib==0.7.6 in /Users/kevincorstorphine/Library/Caches/pypoetry/virtualenvs/a003-poetry-setup-nf8eJWHB-py3.11/lib/python3.11/site-packages (from chromadb!=0.5.4,!=0.5.5,<0.6.0,>=0.4.0->langchain-chroma) (0.7.6)\n",
      "Requirement already satisfied: uvicorn>=0.18.3 in /Users/kevincorstorphine/Library/Caches/pypoetry/virtualenvs/a003-poetry-setup-nf8eJWHB-py3.11/lib/python3.11/site-packages (from uvicorn[standard]>=0.18.3->chromadb!=0.5.4,!=0.5.5,<0.6.0,>=0.4.0->langchain-chroma) (0.30.6)\n",
      "Requirement already satisfied: posthog>=2.4.0 in /Users/kevincorstorphine/Library/Caches/pypoetry/virtualenvs/a003-poetry-setup-nf8eJWHB-py3.11/lib/python3.11/site-packages (from chromadb!=0.5.4,!=0.5.5,<0.6.0,>=0.4.0->langchain-chroma) (3.6.6)\n",
      "Requirement already satisfied: typing-extensions>=4.5.0 in /Users/kevincorstorphine/Library/Caches/pypoetry/virtualenvs/a003-poetry-setup-nf8eJWHB-py3.11/lib/python3.11/site-packages (from chromadb!=0.5.4,!=0.5.5,<0.6.0,>=0.4.0->langchain-chroma) (4.12.2)\n",
      "Requirement already satisfied: onnxruntime>=1.14.1 in /Users/kevincorstorphine/Library/Caches/pypoetry/virtualenvs/a003-poetry-setup-nf8eJWHB-py3.11/lib/python3.11/site-packages (from chromadb!=0.5.4,!=0.5.5,<0.6.0,>=0.4.0->langchain-chroma) (1.19.2)\n",
      "Requirement already satisfied: opentelemetry-api>=1.2.0 in /Users/kevincorstorphine/Library/Caches/pypoetry/virtualenvs/a003-poetry-setup-nf8eJWHB-py3.11/lib/python3.11/site-packages (from chromadb!=0.5.4,!=0.5.5,<0.6.0,>=0.4.0->langchain-chroma) (1.27.0)\n",
      "Requirement already satisfied: opentelemetry-exporter-otlp-proto-grpc>=1.2.0 in /Users/kevincorstorphine/Library/Caches/pypoetry/virtualenvs/a003-poetry-setup-nf8eJWHB-py3.11/lib/python3.11/site-packages (from chromadb!=0.5.4,!=0.5.5,<0.6.0,>=0.4.0->langchain-chroma) (1.27.0)\n",
      "Requirement already satisfied: opentelemetry-instrumentation-fastapi>=0.41b0 in /Users/kevincorstorphine/Library/Caches/pypoetry/virtualenvs/a003-poetry-setup-nf8eJWHB-py3.11/lib/python3.11/site-packages (from chromadb!=0.5.4,!=0.5.5,<0.6.0,>=0.4.0->langchain-chroma) (0.48b0)\n",
      "Requirement already satisfied: opentelemetry-sdk>=1.2.0 in /Users/kevincorstorphine/Library/Caches/pypoetry/virtualenvs/a003-poetry-setup-nf8eJWHB-py3.11/lib/python3.11/site-packages (from chromadb!=0.5.4,!=0.5.5,<0.6.0,>=0.4.0->langchain-chroma) (1.27.0)\n",
      "Requirement already satisfied: tokenizers>=0.13.2 in /Users/kevincorstorphine/Library/Caches/pypoetry/virtualenvs/a003-poetry-setup-nf8eJWHB-py3.11/lib/python3.11/site-packages (from chromadb!=0.5.4,!=0.5.5,<0.6.0,>=0.4.0->langchain-chroma) (0.20.0)\n",
      "Requirement already satisfied: pypika>=0.48.9 in /Users/kevincorstorphine/Library/Caches/pypoetry/virtualenvs/a003-poetry-setup-nf8eJWHB-py3.11/lib/python3.11/site-packages (from chromadb!=0.5.4,!=0.5.5,<0.6.0,>=0.4.0->langchain-chroma) (0.48.9)\n",
      "Requirement already satisfied: tqdm>=4.65.0 in /Users/kevincorstorphine/Library/Caches/pypoetry/virtualenvs/a003-poetry-setup-nf8eJWHB-py3.11/lib/python3.11/site-packages (from chromadb!=0.5.4,!=0.5.5,<0.6.0,>=0.4.0->langchain-chroma) (4.66.4)\n",
      "Requirement already satisfied: overrides>=7.3.1 in /Users/kevincorstorphine/Library/Caches/pypoetry/virtualenvs/a003-poetry-setup-nf8eJWHB-py3.11/lib/python3.11/site-packages (from chromadb!=0.5.4,!=0.5.5,<0.6.0,>=0.4.0->langchain-chroma) (7.7.0)\n",
      "Requirement already satisfied: importlib-resources in /Users/kevincorstorphine/Library/Caches/pypoetry/virtualenvs/a003-poetry-setup-nf8eJWHB-py3.11/lib/python3.11/site-packages (from chromadb!=0.5.4,!=0.5.5,<0.6.0,>=0.4.0->langchain-chroma) (6.4.5)\n",
      "Requirement already satisfied: grpcio>=1.58.0 in /Users/kevincorstorphine/Library/Caches/pypoetry/virtualenvs/a003-poetry-setup-nf8eJWHB-py3.11/lib/python3.11/site-packages (from chromadb!=0.5.4,!=0.5.5,<0.6.0,>=0.4.0->langchain-chroma) (1.66.1)\n",
      "Requirement already satisfied: bcrypt>=4.0.1 in /Users/kevincorstorphine/Library/Caches/pypoetry/virtualenvs/a003-poetry-setup-nf8eJWHB-py3.11/lib/python3.11/site-packages (from chromadb!=0.5.4,!=0.5.5,<0.6.0,>=0.4.0->langchain-chroma) (4.2.0)\n",
      "Requirement already satisfied: typer>=0.9.0 in /Users/kevincorstorphine/Library/Caches/pypoetry/virtualenvs/a003-poetry-setup-nf8eJWHB-py3.11/lib/python3.11/site-packages (from chromadb!=0.5.4,!=0.5.5,<0.6.0,>=0.4.0->langchain-chroma) (0.12.5)\n",
      "Requirement already satisfied: kubernetes>=28.1.0 in /Users/kevincorstorphine/Library/Caches/pypoetry/virtualenvs/a003-poetry-setup-nf8eJWHB-py3.11/lib/python3.11/site-packages (from chromadb!=0.5.4,!=0.5.5,<0.6.0,>=0.4.0->langchain-chroma) (31.0.0)\n",
      "Requirement already satisfied: tenacity>=8.2.3 in /Users/kevincorstorphine/Library/Caches/pypoetry/virtualenvs/a003-poetry-setup-nf8eJWHB-py3.11/lib/python3.11/site-packages (from chromadb!=0.5.4,!=0.5.5,<0.6.0,>=0.4.0->langchain-chroma) (8.5.0)\n",
      "Requirement already satisfied: PyYAML>=6.0.0 in /Users/kevincorstorphine/Library/Caches/pypoetry/virtualenvs/a003-poetry-setup-nf8eJWHB-py3.11/lib/python3.11/site-packages (from chromadb!=0.5.4,!=0.5.5,<0.6.0,>=0.4.0->langchain-chroma) (6.0.1)\n",
      "Requirement already satisfied: mmh3>=4.0.1 in /Users/kevincorstorphine/Library/Caches/pypoetry/virtualenvs/a003-poetry-setup-nf8eJWHB-py3.11/lib/python3.11/site-packages (from chromadb!=0.5.4,!=0.5.5,<0.6.0,>=0.4.0->langchain-chroma) (5.0.1)\n",
      "Requirement already satisfied: orjson>=3.9.12 in /Users/kevincorstorphine/Library/Caches/pypoetry/virtualenvs/a003-poetry-setup-nf8eJWHB-py3.11/lib/python3.11/site-packages (from chromadb!=0.5.4,!=0.5.5,<0.6.0,>=0.4.0->langchain-chroma) (3.10.6)\n",
      "Requirement already satisfied: httpx>=0.27.0 in /Users/kevincorstorphine/Library/Caches/pypoetry/virtualenvs/a003-poetry-setup-nf8eJWHB-py3.11/lib/python3.11/site-packages (from chromadb!=0.5.4,!=0.5.5,<0.6.0,>=0.4.0->langchain-chroma) (0.27.0)\n",
      "Requirement already satisfied: rich>=10.11.0 in /Users/kevincorstorphine/Library/Caches/pypoetry/virtualenvs/a003-poetry-setup-nf8eJWHB-py3.11/lib/python3.11/site-packages (from chromadb!=0.5.4,!=0.5.5,<0.6.0,>=0.4.0->langchain-chroma) (13.8.1)\n",
      "Requirement already satisfied: starlette<0.39.0,>=0.37.2 in /Users/kevincorstorphine/Library/Caches/pypoetry/virtualenvs/a003-poetry-setup-nf8eJWHB-py3.11/lib/python3.11/site-packages (from fastapi<1,>=0.95.2->langchain-chroma) (0.38.6)\n",
      "Requirement already satisfied: jsonpatch<2.0,>=1.33 in /Users/kevincorstorphine/Library/Caches/pypoetry/virtualenvs/a003-poetry-setup-nf8eJWHB-py3.11/lib/python3.11/site-packages (from langchain-core<0.4,>=0.1.40->langchain-chroma) (1.33)\n",
      "Requirement already satisfied: langsmith<0.2.0,>=0.1.75 in /Users/kevincorstorphine/Library/Caches/pypoetry/virtualenvs/a003-poetry-setup-nf8eJWHB-py3.11/lib/python3.11/site-packages (from langchain-core<0.4,>=0.1.40->langchain-chroma) (0.1.93)\n",
      "Requirement already satisfied: packaging<25,>=23.2 in /Users/kevincorstorphine/Library/Caches/pypoetry/virtualenvs/a003-poetry-setup-nf8eJWHB-py3.11/lib/python3.11/site-packages (from langchain-core<0.4,>=0.1.40->langchain-chroma) (24.1)\n",
      "Requirement already satisfied: pyproject_hooks in /Users/kevincorstorphine/Library/Caches/pypoetry/virtualenvs/a003-poetry-setup-nf8eJWHB-py3.11/lib/python3.11/site-packages (from build>=1.0.3->chromadb!=0.5.4,!=0.5.5,<0.6.0,>=0.4.0->langchain-chroma) (1.1.0)\n",
      "Requirement already satisfied: anyio in /Users/kevincorstorphine/Library/Caches/pypoetry/virtualenvs/a003-poetry-setup-nf8eJWHB-py3.11/lib/python3.11/site-packages (from httpx>=0.27.0->chromadb!=0.5.4,!=0.5.5,<0.6.0,>=0.4.0->langchain-chroma) (4.4.0)\n",
      "Requirement already satisfied: certifi in /Users/kevincorstorphine/Library/Caches/pypoetry/virtualenvs/a003-poetry-setup-nf8eJWHB-py3.11/lib/python3.11/site-packages (from httpx>=0.27.0->chromadb!=0.5.4,!=0.5.5,<0.6.0,>=0.4.0->langchain-chroma) (2024.7.4)\n",
      "Requirement already satisfied: httpcore==1.* in /Users/kevincorstorphine/Library/Caches/pypoetry/virtualenvs/a003-poetry-setup-nf8eJWHB-py3.11/lib/python3.11/site-packages (from httpx>=0.27.0->chromadb!=0.5.4,!=0.5.5,<0.6.0,>=0.4.0->langchain-chroma) (1.0.5)\n",
      "Requirement already satisfied: idna in /Users/kevincorstorphine/Library/Caches/pypoetry/virtualenvs/a003-poetry-setup-nf8eJWHB-py3.11/lib/python3.11/site-packages (from httpx>=0.27.0->chromadb!=0.5.4,!=0.5.5,<0.6.0,>=0.4.0->langchain-chroma) (3.7)\n",
      "Requirement already satisfied: sniffio in /Users/kevincorstorphine/Library/Caches/pypoetry/virtualenvs/a003-poetry-setup-nf8eJWHB-py3.11/lib/python3.11/site-packages (from httpx>=0.27.0->chromadb!=0.5.4,!=0.5.5,<0.6.0,>=0.4.0->langchain-chroma) (1.3.1)\n",
      "Requirement already satisfied: h11<0.15,>=0.13 in /Users/kevincorstorphine/Library/Caches/pypoetry/virtualenvs/a003-poetry-setup-nf8eJWHB-py3.11/lib/python3.11/site-packages (from httpcore==1.*->httpx>=0.27.0->chromadb!=0.5.4,!=0.5.5,<0.6.0,>=0.4.0->langchain-chroma) (0.14.0)\n",
      "Requirement already satisfied: jsonpointer>=1.9 in /Users/kevincorstorphine/Library/Caches/pypoetry/virtualenvs/a003-poetry-setup-nf8eJWHB-py3.11/lib/python3.11/site-packages (from jsonpatch<2.0,>=1.33->langchain-core<0.4,>=0.1.40->langchain-chroma) (3.0.0)\n",
      "Requirement already satisfied: six>=1.9.0 in /Users/kevincorstorphine/Library/Caches/pypoetry/virtualenvs/a003-poetry-setup-nf8eJWHB-py3.11/lib/python3.11/site-packages (from kubernetes>=28.1.0->chromadb!=0.5.4,!=0.5.5,<0.6.0,>=0.4.0->langchain-chroma) (1.16.0)\n",
      "Requirement already satisfied: python-dateutil>=2.5.3 in /Users/kevincorstorphine/Library/Caches/pypoetry/virtualenvs/a003-poetry-setup-nf8eJWHB-py3.11/lib/python3.11/site-packages (from kubernetes>=28.1.0->chromadb!=0.5.4,!=0.5.5,<0.6.0,>=0.4.0->langchain-chroma) (2.9.0.post0)\n",
      "Requirement already satisfied: google-auth>=1.0.1 in /Users/kevincorstorphine/Library/Caches/pypoetry/virtualenvs/a003-poetry-setup-nf8eJWHB-py3.11/lib/python3.11/site-packages (from kubernetes>=28.1.0->chromadb!=0.5.4,!=0.5.5,<0.6.0,>=0.4.0->langchain-chroma) (2.35.0)\n",
      "Requirement already satisfied: websocket-client!=0.40.0,!=0.41.*,!=0.42.*,>=0.32.0 in /Users/kevincorstorphine/Library/Caches/pypoetry/virtualenvs/a003-poetry-setup-nf8eJWHB-py3.11/lib/python3.11/site-packages (from kubernetes>=28.1.0->chromadb!=0.5.4,!=0.5.5,<0.6.0,>=0.4.0->langchain-chroma) (1.8.0)\n",
      "Requirement already satisfied: requests in /Users/kevincorstorphine/Library/Caches/pypoetry/virtualenvs/a003-poetry-setup-nf8eJWHB-py3.11/lib/python3.11/site-packages (from kubernetes>=28.1.0->chromadb!=0.5.4,!=0.5.5,<0.6.0,>=0.4.0->langchain-chroma) (2.32.3)\n",
      "Requirement already satisfied: requests-oauthlib in /Users/kevincorstorphine/Library/Caches/pypoetry/virtualenvs/a003-poetry-setup-nf8eJWHB-py3.11/lib/python3.11/site-packages (from kubernetes>=28.1.0->chromadb!=0.5.4,!=0.5.5,<0.6.0,>=0.4.0->langchain-chroma) (2.0.0)\n",
      "Requirement already satisfied: oauthlib>=3.2.2 in /Users/kevincorstorphine/Library/Caches/pypoetry/virtualenvs/a003-poetry-setup-nf8eJWHB-py3.11/lib/python3.11/site-packages (from kubernetes>=28.1.0->chromadb!=0.5.4,!=0.5.5,<0.6.0,>=0.4.0->langchain-chroma) (3.2.2)\n",
      "Requirement already satisfied: urllib3>=1.24.2 in /Users/kevincorstorphine/Library/Caches/pypoetry/virtualenvs/a003-poetry-setup-nf8eJWHB-py3.11/lib/python3.11/site-packages (from kubernetes>=28.1.0->chromadb!=0.5.4,!=0.5.5,<0.6.0,>=0.4.0->langchain-chroma) (2.2.2)\n",
      "Requirement already satisfied: durationpy>=0.7 in /Users/kevincorstorphine/Library/Caches/pypoetry/virtualenvs/a003-poetry-setup-nf8eJWHB-py3.11/lib/python3.11/site-packages (from kubernetes>=28.1.0->chromadb!=0.5.4,!=0.5.5,<0.6.0,>=0.4.0->langchain-chroma) (0.7)\n",
      "Requirement already satisfied: coloredlogs in /Users/kevincorstorphine/Library/Caches/pypoetry/virtualenvs/a003-poetry-setup-nf8eJWHB-py3.11/lib/python3.11/site-packages (from onnxruntime>=1.14.1->chromadb!=0.5.4,!=0.5.5,<0.6.0,>=0.4.0->langchain-chroma) (15.0.1)\n",
      "Requirement already satisfied: flatbuffers in /Users/kevincorstorphine/Library/Caches/pypoetry/virtualenvs/a003-poetry-setup-nf8eJWHB-py3.11/lib/python3.11/site-packages (from onnxruntime>=1.14.1->chromadb!=0.5.4,!=0.5.5,<0.6.0,>=0.4.0->langchain-chroma) (24.3.25)\n",
      "Requirement already satisfied: protobuf in /Users/kevincorstorphine/Library/Caches/pypoetry/virtualenvs/a003-poetry-setup-nf8eJWHB-py3.11/lib/python3.11/site-packages (from onnxruntime>=1.14.1->chromadb!=0.5.4,!=0.5.5,<0.6.0,>=0.4.0->langchain-chroma) (4.25.5)\n",
      "Requirement already satisfied: sympy in /Users/kevincorstorphine/Library/Caches/pypoetry/virtualenvs/a003-poetry-setup-nf8eJWHB-py3.11/lib/python3.11/site-packages (from onnxruntime>=1.14.1->chromadb!=0.5.4,!=0.5.5,<0.6.0,>=0.4.0->langchain-chroma) (1.13.3)\n",
      "Requirement already satisfied: deprecated>=1.2.6 in /Users/kevincorstorphine/Library/Caches/pypoetry/virtualenvs/a003-poetry-setup-nf8eJWHB-py3.11/lib/python3.11/site-packages (from opentelemetry-api>=1.2.0->chromadb!=0.5.4,!=0.5.5,<0.6.0,>=0.4.0->langchain-chroma) (1.2.14)\n",
      "Requirement already satisfied: importlib-metadata<=8.4.0,>=6.0 in /Users/kevincorstorphine/Library/Caches/pypoetry/virtualenvs/a003-poetry-setup-nf8eJWHB-py3.11/lib/python3.11/site-packages (from opentelemetry-api>=1.2.0->chromadb!=0.5.4,!=0.5.5,<0.6.0,>=0.4.0->langchain-chroma) (8.4.0)\n",
      "Requirement already satisfied: googleapis-common-protos~=1.52 in /Users/kevincorstorphine/Library/Caches/pypoetry/virtualenvs/a003-poetry-setup-nf8eJWHB-py3.11/lib/python3.11/site-packages (from opentelemetry-exporter-otlp-proto-grpc>=1.2.0->chromadb!=0.5.4,!=0.5.5,<0.6.0,>=0.4.0->langchain-chroma) (1.65.0)\n",
      "Requirement already satisfied: opentelemetry-exporter-otlp-proto-common==1.27.0 in /Users/kevincorstorphine/Library/Caches/pypoetry/virtualenvs/a003-poetry-setup-nf8eJWHB-py3.11/lib/python3.11/site-packages (from opentelemetry-exporter-otlp-proto-grpc>=1.2.0->chromadb!=0.5.4,!=0.5.5,<0.6.0,>=0.4.0->langchain-chroma) (1.27.0)\n",
      "Requirement already satisfied: opentelemetry-proto==1.27.0 in /Users/kevincorstorphine/Library/Caches/pypoetry/virtualenvs/a003-poetry-setup-nf8eJWHB-py3.11/lib/python3.11/site-packages (from opentelemetry-exporter-otlp-proto-grpc>=1.2.0->chromadb!=0.5.4,!=0.5.5,<0.6.0,>=0.4.0->langchain-chroma) (1.27.0)\n",
      "Requirement already satisfied: opentelemetry-instrumentation-asgi==0.48b0 in /Users/kevincorstorphine/Library/Caches/pypoetry/virtualenvs/a003-poetry-setup-nf8eJWHB-py3.11/lib/python3.11/site-packages (from opentelemetry-instrumentation-fastapi>=0.41b0->chromadb!=0.5.4,!=0.5.5,<0.6.0,>=0.4.0->langchain-chroma) (0.48b0)\n",
      "Requirement already satisfied: opentelemetry-instrumentation==0.48b0 in /Users/kevincorstorphine/Library/Caches/pypoetry/virtualenvs/a003-poetry-setup-nf8eJWHB-py3.11/lib/python3.11/site-packages (from opentelemetry-instrumentation-fastapi>=0.41b0->chromadb!=0.5.4,!=0.5.5,<0.6.0,>=0.4.0->langchain-chroma) (0.48b0)\n",
      "Requirement already satisfied: opentelemetry-semantic-conventions==0.48b0 in /Users/kevincorstorphine/Library/Caches/pypoetry/virtualenvs/a003-poetry-setup-nf8eJWHB-py3.11/lib/python3.11/site-packages (from opentelemetry-instrumentation-fastapi>=0.41b0->chromadb!=0.5.4,!=0.5.5,<0.6.0,>=0.4.0->langchain-chroma) (0.48b0)\n",
      "Requirement already satisfied: opentelemetry-util-http==0.48b0 in /Users/kevincorstorphine/Library/Caches/pypoetry/virtualenvs/a003-poetry-setup-nf8eJWHB-py3.11/lib/python3.11/site-packages (from opentelemetry-instrumentation-fastapi>=0.41b0->chromadb!=0.5.4,!=0.5.5,<0.6.0,>=0.4.0->langchain-chroma) (0.48b0)\n",
      "Requirement already satisfied: setuptools>=16.0 in /Users/kevincorstorphine/Library/Caches/pypoetry/virtualenvs/a003-poetry-setup-nf8eJWHB-py3.11/lib/python3.11/site-packages (from opentelemetry-instrumentation==0.48b0->opentelemetry-instrumentation-fastapi>=0.41b0->chromadb!=0.5.4,!=0.5.5,<0.6.0,>=0.4.0->langchain-chroma) (71.1.0)\n",
      "Requirement already satisfied: wrapt<2.0.0,>=1.0.0 in /Users/kevincorstorphine/Library/Caches/pypoetry/virtualenvs/a003-poetry-setup-nf8eJWHB-py3.11/lib/python3.11/site-packages (from opentelemetry-instrumentation==0.48b0->opentelemetry-instrumentation-fastapi>=0.41b0->chromadb!=0.5.4,!=0.5.5,<0.6.0,>=0.4.0->langchain-chroma) (1.16.0)\n",
      "Requirement already satisfied: asgiref~=3.0 in /Users/kevincorstorphine/Library/Caches/pypoetry/virtualenvs/a003-poetry-setup-nf8eJWHB-py3.11/lib/python3.11/site-packages (from opentelemetry-instrumentation-asgi==0.48b0->opentelemetry-instrumentation-fastapi>=0.41b0->chromadb!=0.5.4,!=0.5.5,<0.6.0,>=0.4.0->langchain-chroma) (3.8.1)\n",
      "Requirement already satisfied: monotonic>=1.5 in /Users/kevincorstorphine/Library/Caches/pypoetry/virtualenvs/a003-poetry-setup-nf8eJWHB-py3.11/lib/python3.11/site-packages (from posthog>=2.4.0->chromadb!=0.5.4,!=0.5.5,<0.6.0,>=0.4.0->langchain-chroma) (1.6)\n",
      "Requirement already satisfied: backoff>=1.10.0 in /Users/kevincorstorphine/Library/Caches/pypoetry/virtualenvs/a003-poetry-setup-nf8eJWHB-py3.11/lib/python3.11/site-packages (from posthog>=2.4.0->chromadb!=0.5.4,!=0.5.5,<0.6.0,>=0.4.0->langchain-chroma) (2.2.1)\n",
      "Requirement already satisfied: annotated-types>=0.4.0 in /Users/kevincorstorphine/Library/Caches/pypoetry/virtualenvs/a003-poetry-setup-nf8eJWHB-py3.11/lib/python3.11/site-packages (from pydantic>=1.9->chromadb!=0.5.4,!=0.5.5,<0.6.0,>=0.4.0->langchain-chroma) (0.7.0)\n",
      "Requirement already satisfied: pydantic-core==2.20.1 in /Users/kevincorstorphine/Library/Caches/pypoetry/virtualenvs/a003-poetry-setup-nf8eJWHB-py3.11/lib/python3.11/site-packages (from pydantic>=1.9->chromadb!=0.5.4,!=0.5.5,<0.6.0,>=0.4.0->langchain-chroma) (2.20.1)\n",
      "Requirement already satisfied: markdown-it-py>=2.2.0 in /Users/kevincorstorphine/Library/Caches/pypoetry/virtualenvs/a003-poetry-setup-nf8eJWHB-py3.11/lib/python3.11/site-packages (from rich>=10.11.0->chromadb!=0.5.4,!=0.5.5,<0.6.0,>=0.4.0->langchain-chroma) (3.0.0)\n",
      "Requirement already satisfied: pygments<3.0.0,>=2.13.0 in /Users/kevincorstorphine/Library/Caches/pypoetry/virtualenvs/a003-poetry-setup-nf8eJWHB-py3.11/lib/python3.11/site-packages (from rich>=10.11.0->chromadb!=0.5.4,!=0.5.5,<0.6.0,>=0.4.0->langchain-chroma) (2.18.0)\n",
      "Requirement already satisfied: huggingface-hub<1.0,>=0.16.4 in /Users/kevincorstorphine/Library/Caches/pypoetry/virtualenvs/a003-poetry-setup-nf8eJWHB-py3.11/lib/python3.11/site-packages (from tokenizers>=0.13.2->chromadb!=0.5.4,!=0.5.5,<0.6.0,>=0.4.0->langchain-chroma) (0.25.1)\n",
      "Requirement already satisfied: click>=8.0.0 in /Users/kevincorstorphine/Library/Caches/pypoetry/virtualenvs/a003-poetry-setup-nf8eJWHB-py3.11/lib/python3.11/site-packages (from typer>=0.9.0->chromadb!=0.5.4,!=0.5.5,<0.6.0,>=0.4.0->langchain-chroma) (8.1.7)\n",
      "Requirement already satisfied: shellingham>=1.3.0 in /Users/kevincorstorphine/Library/Caches/pypoetry/virtualenvs/a003-poetry-setup-nf8eJWHB-py3.11/lib/python3.11/site-packages (from typer>=0.9.0->chromadb!=0.5.4,!=0.5.5,<0.6.0,>=0.4.0->langchain-chroma) (1.5.4)\n",
      "Requirement already satisfied: httptools>=0.5.0 in /Users/kevincorstorphine/Library/Caches/pypoetry/virtualenvs/a003-poetry-setup-nf8eJWHB-py3.11/lib/python3.11/site-packages (from uvicorn[standard]>=0.18.3->chromadb!=0.5.4,!=0.5.5,<0.6.0,>=0.4.0->langchain-chroma) (0.6.1)\n",
      "Requirement already satisfied: python-dotenv>=0.13 in /Users/kevincorstorphine/Library/Caches/pypoetry/virtualenvs/a003-poetry-setup-nf8eJWHB-py3.11/lib/python3.11/site-packages (from uvicorn[standard]>=0.18.3->chromadb!=0.5.4,!=0.5.5,<0.6.0,>=0.4.0->langchain-chroma) (1.0.1)\n",
      "Requirement already satisfied: uvloop!=0.15.0,!=0.15.1,>=0.14.0 in /Users/kevincorstorphine/Library/Caches/pypoetry/virtualenvs/a003-poetry-setup-nf8eJWHB-py3.11/lib/python3.11/site-packages (from uvicorn[standard]>=0.18.3->chromadb!=0.5.4,!=0.5.5,<0.6.0,>=0.4.0->langchain-chroma) (0.20.0)\n",
      "Requirement already satisfied: watchfiles>=0.13 in /Users/kevincorstorphine/Library/Caches/pypoetry/virtualenvs/a003-poetry-setup-nf8eJWHB-py3.11/lib/python3.11/site-packages (from uvicorn[standard]>=0.18.3->chromadb!=0.5.4,!=0.5.5,<0.6.0,>=0.4.0->langchain-chroma) (0.24.0)\n",
      "Requirement already satisfied: websockets>=10.4 in /Users/kevincorstorphine/Library/Caches/pypoetry/virtualenvs/a003-poetry-setup-nf8eJWHB-py3.11/lib/python3.11/site-packages (from uvicorn[standard]>=0.18.3->chromadb!=0.5.4,!=0.5.5,<0.6.0,>=0.4.0->langchain-chroma) (13.1)\n",
      "Requirement already satisfied: cachetools<6.0,>=2.0.0 in /Users/kevincorstorphine/Library/Caches/pypoetry/virtualenvs/a003-poetry-setup-nf8eJWHB-py3.11/lib/python3.11/site-packages (from google-auth>=1.0.1->kubernetes>=28.1.0->chromadb!=0.5.4,!=0.5.5,<0.6.0,>=0.4.0->langchain-chroma) (5.5.0)\n",
      "Requirement already satisfied: pyasn1-modules>=0.2.1 in /Users/kevincorstorphine/Library/Caches/pypoetry/virtualenvs/a003-poetry-setup-nf8eJWHB-py3.11/lib/python3.11/site-packages (from google-auth>=1.0.1->kubernetes>=28.1.0->chromadb!=0.5.4,!=0.5.5,<0.6.0,>=0.4.0->langchain-chroma) (0.4.1)\n",
      "Requirement already satisfied: rsa<5,>=3.1.4 in /Users/kevincorstorphine/Library/Caches/pypoetry/virtualenvs/a003-poetry-setup-nf8eJWHB-py3.11/lib/python3.11/site-packages (from google-auth>=1.0.1->kubernetes>=28.1.0->chromadb!=0.5.4,!=0.5.5,<0.6.0,>=0.4.0->langchain-chroma) (4.9)\n",
      "Requirement already satisfied: filelock in /Users/kevincorstorphine/Library/Caches/pypoetry/virtualenvs/a003-poetry-setup-nf8eJWHB-py3.11/lib/python3.11/site-packages (from huggingface-hub<1.0,>=0.16.4->tokenizers>=0.13.2->chromadb!=0.5.4,!=0.5.5,<0.6.0,>=0.4.0->langchain-chroma) (3.16.1)\n",
      "Requirement already satisfied: fsspec>=2023.5.0 in /Users/kevincorstorphine/Library/Caches/pypoetry/virtualenvs/a003-poetry-setup-nf8eJWHB-py3.11/lib/python3.11/site-packages (from huggingface-hub<1.0,>=0.16.4->tokenizers>=0.13.2->chromadb!=0.5.4,!=0.5.5,<0.6.0,>=0.4.0->langchain-chroma) (2024.9.0)\n",
      "Requirement already satisfied: zipp>=0.5 in /Users/kevincorstorphine/Library/Caches/pypoetry/virtualenvs/a003-poetry-setup-nf8eJWHB-py3.11/lib/python3.11/site-packages (from importlib-metadata<=8.4.0,>=6.0->opentelemetry-api>=1.2.0->chromadb!=0.5.4,!=0.5.5,<0.6.0,>=0.4.0->langchain-chroma) (3.20.2)\n",
      "Requirement already satisfied: mdurl~=0.1 in /Users/kevincorstorphine/Library/Caches/pypoetry/virtualenvs/a003-poetry-setup-nf8eJWHB-py3.11/lib/python3.11/site-packages (from markdown-it-py>=2.2.0->rich>=10.11.0->chromadb!=0.5.4,!=0.5.5,<0.6.0,>=0.4.0->langchain-chroma) (0.1.2)\n",
      "Requirement already satisfied: charset-normalizer<4,>=2 in /Users/kevincorstorphine/Library/Caches/pypoetry/virtualenvs/a003-poetry-setup-nf8eJWHB-py3.11/lib/python3.11/site-packages (from requests->kubernetes>=28.1.0->chromadb!=0.5.4,!=0.5.5,<0.6.0,>=0.4.0->langchain-chroma) (3.3.2)\n",
      "Requirement already satisfied: humanfriendly>=9.1 in /Users/kevincorstorphine/Library/Caches/pypoetry/virtualenvs/a003-poetry-setup-nf8eJWHB-py3.11/lib/python3.11/site-packages (from coloredlogs->onnxruntime>=1.14.1->chromadb!=0.5.4,!=0.5.5,<0.6.0,>=0.4.0->langchain-chroma) (10.0)\n",
      "Requirement already satisfied: mpmath<1.4,>=1.1.0 in /Users/kevincorstorphine/Library/Caches/pypoetry/virtualenvs/a003-poetry-setup-nf8eJWHB-py3.11/lib/python3.11/site-packages (from sympy->onnxruntime>=1.14.1->chromadb!=0.5.4,!=0.5.5,<0.6.0,>=0.4.0->langchain-chroma) (1.3.0)\n",
      "Requirement already satisfied: pyasn1<0.7.0,>=0.4.6 in /Users/kevincorstorphine/Library/Caches/pypoetry/virtualenvs/a003-poetry-setup-nf8eJWHB-py3.11/lib/python3.11/site-packages (from pyasn1-modules>=0.2.1->google-auth>=1.0.1->kubernetes>=28.1.0->chromadb!=0.5.4,!=0.5.5,<0.6.0,>=0.4.0->langchain-chroma) (0.6.1)\n",
      "\n",
      "\u001b[1m[\u001b[0m\u001b[34;49mnotice\u001b[0m\u001b[1;39;49m]\u001b[0m\u001b[39;49m A new release of pip is available: \u001b[0m\u001b[31;49m24.0\u001b[0m\u001b[39;49m -> \u001b[0m\u001b[32;49m24.2\u001b[0m\n",
      "\u001b[1m[\u001b[0m\u001b[34;49mnotice\u001b[0m\u001b[1;39;49m]\u001b[0m\u001b[39;49m To update, run: \u001b[0m\u001b[32;49mpip install --upgrade pip\u001b[0m\n"
     ]
    }
   ],
   "source": [
    "!pip install langchain-chroma"
   ]
  },
  {
   "cell_type": "code",
   "execution_count": 7,
   "id": "8e0c5a1d-10d3-4813-a5e3-765c2127e174",
   "metadata": {},
   "outputs": [],
   "source": [
    "from langchain_community.document_loaders import TextLoader\n",
    "from langchain_openai import OpenAIEmbeddings\n",
    "from langchain_text_splitters import CharacterTextSplitter\n",
    "from langchain_chroma import Chroma\n",
    "\n",
    "# Load the document, split it into chunks, embed each chunk and load it into the vector store.\n",
    "loaded_document = TextLoader('./data/state_of_the_union.txt').load()\n",
    "\n",
    "text_splitter = CharacterTextSplitter(chunk_size=1000, chunk_overlap=0)\n",
    "\n",
    "chunks_of_text = text_splitter.split_documents(loaded_document)\n",
    "\n",
    "vector_db = Chroma.from_documents(chunks_of_text, OpenAIEmbeddings())"
   ]
  },
  {
   "cell_type": "code",
   "execution_count": 8,
   "id": "bdbd14f2-a3ca-40db-887b-b86d65d0b22e",
   "metadata": {},
   "outputs": [
    {
     "name": "stdout",
     "output_type": "stream",
     "text": [
      "Tonight. I call on the Senate to: Pass the Freedom to Vote Act. Pass the John Lewis Voting Rights Act. And while you’re at it, pass the Disclose Act so Americans can know who is funding our elections. \n",
      "\n",
      "Tonight, I’d like to honor someone who has dedicated his life to serve this country: Justice Stephen Breyer—an Army veteran, Constitutional scholar, and retiring Justice of the United States Supreme Court. Justice Breyer, thank you for your service. \n",
      "\n",
      "One of the most serious constitutional responsibilities a President has is nominating someone to serve on the United States Supreme Court. \n",
      "\n",
      "And I did that 4 days ago, when I nominated Circuit Court of Appeals Judge Ketanji Brown Jackson. One of our nation’s top legal minds, who will continue Justice Breyer’s legacy of excellence.\n"
     ]
    }
   ],
   "source": [
    "question = \"What did the president say about the John Lewis Voting Rights Act?\"\n",
    "\n",
    "response = vector_db.similarity_search(question)\n",
    "\n",
    "print(response[0].page_content)"
   ]
  },
  {
   "cell_type": "markdown",
   "id": "b9d43131-adf6-4d17-a256-05432a834b29",
   "metadata": {},
   "source": [
    "The `.similarity_search` method in the previous code is used to find the most relevant text chunks from a pre-processed document that are similar to a given query. Here's how it works step-by-step\n",
    "\n",
    "1. **Document Processing and Embedding:**\n",
    "   - The document `state_of_the_union.txt` is loaded using the `TextLoader` from the LangChain Community package.\n",
    "   - The document is then split into smaller chunks of text using the `CharacterTextSplitter`, where each chunk is 1000 characters long without any overlap between the chunks.\n",
    "   - Each chunk of text is then transformed into an embedding using `OpenAIEmbeddings`. Embeddings are high-dimensional vectors that represent the semantic content of the text.\n",
    "   - These embeddings are stored in an instance of `Chroma`, which serves as a vector database optimized for efficient similarity searches.\n",
    "\n",
    "2. **Using `.similarity_search`:**\n",
    "   - When you invoke `vector_db.similarity_search(question)`, the method converts the query (`\"What did the president say about the John Lewis Voting Rights Act?\"`) into an embedding using the same method that was used for the chunks.\n",
    "   - It then searches the vector database (`vector_db`) to find the chunks whose embeddings are most similar to the embedding of the query. This similarity is typically measured using metrics such as cosine similarity.\n",
    "   - The search results are sorted by relevance, with the most relevant chunks (those that are semantically closest to the query) returned first.\n",
    "\n",
    "3. **Output:**\n",
    "   - The result of the `.similarity_search` is stored in `response`, which contains the relevant chunks and their similarity scores.\n",
    "   - The script prints the content of the most relevant chunk (the first result), which should ideally contain information about what the president said regarding the John Lewis Voting Rights Act.\n",
    "\n",
    "This method is particularly useful in applications like question answering or document retrieval where you need to quickly find the most relevant parts of a large text based on a query."
   ]
  },
  {
   "cell_type": "markdown",
   "id": "dbc24f4f-d23c-4202-992d-91b0623136ae",
   "metadata": {},
   "source": [
    "## How to execute the code from Visual Studio Code\n",
    "* In Visual Studio Code, see the file 004-vector-stores.py\n",
    "* In terminal, make sure you are in the directory of the file and run:\n",
    "    * python 004-vector-stores.py"
   ]
  },
  {
   "cell_type": "code",
   "execution_count": null,
   "id": "b1af248e-6069-44b3-a2cd-a20aa3259874",
   "metadata": {},
   "outputs": [],
   "source": []
  }
 ],
 "metadata": {
  "kernelspec": {
   "display_name": "Python 3 (ipykernel)",
   "language": "python",
   "name": "python3"
  },
  "language_info": {
   "codemirror_mode": {
    "name": "ipython",
    "version": 3
   },
   "file_extension": ".py",
   "mimetype": "text/x-python",
   "name": "python",
   "nbconvert_exporter": "python",
   "pygments_lexer": "ipython3",
   "version": "3.11.4"
  }
 },
 "nbformat": 4,
 "nbformat_minor": 5
}
